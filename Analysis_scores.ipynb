{
 "cells": [
  {
   "cell_type": "code",
   "execution_count": 1,
   "metadata": {},
   "outputs": [],
   "source": [
    "import json\n",
    "import os\n",
    "import pandas as pd\n",
    "import numpy as np\n",
    "from scipy.stats import spearmanr, kendalltau"
   ]
  },
  {
   "cell_type": "markdown",
   "metadata": {},
   "source": [
    "### Extracting scores"
   ]
  },
  {
   "cell_type": "code",
   "execution_count": 25,
   "metadata": {},
   "outputs": [
    {
     "name": "stdout",
     "output_type": "stream",
     "text": [
      "gpt35_coh\n",
      "gpt4_flu\n",
      "gpt4o_rel\n",
      "gpt4_coh\n",
      "gpt35_flu\n",
      "gpt35_con\n",
      "gpt4_con\n",
      "gpt4_rel\n",
      "gpt4o_flu\n",
      "gpt35_coh_just\n",
      "gpt4o_coh\n",
      "gpt35_rel\n",
      "gpt35_con_just\n",
      "gpt35_flu_just\n",
      "gpt35_rel_just\n",
      "gpt4o_con\n"
     ]
    }
   ],
   "source": [
    "def process_gpt_files(directory):\n",
    "    df_list = []\n",
    "    for filename in os.listdir(directory):\n",
    "        if filename.endswith('.json'):\n",
    "            file_path = os.path.join(directory, filename)\n",
    "            df_name = os.path.splitext(filename)[0]  # Extracting file name without extension\n",
    "            with open(file_path, 'r') as file:\n",
    "                data = json.load(file)\n",
    "                df = pd.DataFrame(data)\n",
    "                df = df[['scores', 'all_responses']]\n",
    "                df.loc[:, 'first_score'] = df['all_responses'].apply(lambda x: x[0])\n",
    "            globals()[df_name] = df  # Assigning DataFrame to dynamically named variable\n",
    "            print(df_name)\n",
    "            df_list.append(df)\n",
    "    return df_list\n",
    "\n",
    "directory = 'results/for_analysis/gpt'\n",
    "list_gpt = process_gpt_files(directory)"
   ]
  },
  {
   "cell_type": "code",
   "execution_count": 3,
   "metadata": {},
   "outputs": [
    {
     "name": "stdout",
     "output_type": "stream",
     "text": [
      "sonnet_rel\n",
      "haiku_coh\n",
      "opus_rel\n",
      "haiku_flu\n",
      "haiku_con\n",
      "haiku_con_just\n",
      "haiku_rel_just\n",
      "haiku_flu_just\n",
      "sonnet_flu\n",
      "opus_coh\n",
      "opus_flu\n",
      "sonnet_coh\n",
      "haiku_coh_just\n",
      "haiku_rel\n",
      "opus_con\n",
      "sonnet_con\n"
     ]
    }
   ],
   "source": [
    "def process_claude_files(directory):\n",
    "    for filename in os.listdir(directory):\n",
    "        if filename.endswith('.json'):\n",
    "            file_path = os.path.join(directory, filename)\n",
    "            df_name = os.path.splitext(filename)[0]  # Extracting file name without extension\n",
    "            with open(file_path, 'r') as file:\n",
    "                data = json.load(file)\n",
    "                df = pd.DataFrame(data)\n",
    "                df.loc[:, 'scores'] = df['instance'].apply(lambda x: x['scores'])\n",
    "                df = df[['scores', 'all_responses']]\n",
    "                df.loc[:, 'first_score'] = df['all_responses'].apply(lambda x: x[0] if isinstance(x, list) and len(x) > 0 else None)\n",
    "            globals()[df_name] = df  # Assigning DataFrame to dynamically named variable\n",
    "            print(df_name)\n",
    "\n",
    "directory = 'results/for_analysis/claude'\n",
    "process_claude_files(directory)"
   ]
  },
  {
   "cell_type": "code",
   "execution_count": 4,
   "metadata": {},
   "outputs": [],
   "source": [
    "def Preping_df(df, metric):  \n",
    "    df.loc[: ,'first_score'] = df['first_score'].apply(lambda x: int(x[-1]) if x is not None and x[-1].isdigit() else None)\n",
    "    df.loc[:, 'prob_score'] = df['all_responses'].apply(\n",
    "        lambda x: np.mean([int(i[-1]) for i in x if i and i[-1].isdigit()]))\n",
    "    df.loc[:, metric] = df['scores'].apply(lambda x: x[metric] )\n",
    "    print(df.isna().sum())\n",
    "    df.dropna(inplace=True)"
   ]
  },
  {
   "cell_type": "code",
   "execution_count": 5,
   "metadata": {},
   "outputs": [],
   "source": [
    "def Spearman_calculation(df, metric): \n",
    "    correlation, p_value = spearmanr(df['first_score'], df[metric])\n",
    "    print(f\"Spearman Correlation Coefficient for {metric} - one score : {correlation:.3f}\")\n",
    "    correlation, p_value = spearmanr(df['prob_score'], df[metric])\n",
    "    print(f\"Spearman Correlation Coefficient for {metric} - probability score : {correlation:.3f}\")"
   ]
  },
  {
   "cell_type": "code",
   "execution_count": 6,
   "metadata": {},
   "outputs": [
    {
     "name": "stdout",
     "output_type": "stream",
     "text": [
      "scores           0\n",
      "all_responses    0\n",
      "first_score      2\n",
      "prob_score       0\n",
      "coherence        0\n",
      "dtype: int64\n",
      "scores           0\n",
      "all_responses    0\n",
      "first_score      1\n",
      "prob_score       0\n",
      "fluency          0\n",
      "dtype: int64\n",
      "scores           0\n",
      "all_responses    0\n",
      "first_score      3\n",
      "prob_score       0\n",
      "consistency      0\n",
      "dtype: int64\n",
      "scores           0\n",
      "all_responses    0\n",
      "first_score      2\n",
      "prob_score       0\n",
      "relevance        0\n",
      "dtype: int64\n"
     ]
    }
   ],
   "source": [
    "Preping_df(gpt35_coh, 'coherence')\n",
    "Preping_df(gpt35_flu, 'fluency')\n",
    "Preping_df(gpt35_con, 'consistency')\n",
    "Preping_df(gpt35_rel, 'relevance')"
   ]
  },
  {
   "cell_type": "code",
   "execution_count": 7,
   "metadata": {},
   "outputs": [
    {
     "name": "stdout",
     "output_type": "stream",
     "text": [
      "scores            0\n",
      "all_responses     0\n",
      "first_score      39\n",
      "prob_score        0\n",
      "coherence         0\n",
      "dtype: int64\n",
      "scores            0\n",
      "all_responses     0\n",
      "first_score      38\n",
      "prob_score        0\n",
      "fluency           0\n",
      "dtype: int64\n",
      "scores            0\n",
      "all_responses     0\n",
      "first_score      60\n",
      "prob_score        0\n",
      "consistency       0\n",
      "dtype: int64\n",
      "scores            0\n",
      "all_responses     0\n",
      "first_score      16\n",
      "prob_score        0\n",
      "relevance         0\n",
      "dtype: int64\n"
     ]
    }
   ],
   "source": [
    "Preping_df(gpt35_coh_just, 'coherence')\n",
    "Preping_df(gpt35_flu_just, 'fluency')\n",
    "Preping_df(gpt35_con_just, 'consistency')\n",
    "Preping_df(gpt35_rel_just, 'relevance')"
   ]
  },
  {
   "cell_type": "code",
   "execution_count": 8,
   "metadata": {},
   "outputs": [
    {
     "name": "stdout",
     "output_type": "stream",
     "text": [
      "scores           0\n",
      "all_responses    0\n",
      "first_score      0\n",
      "prob_score       0\n",
      "coherence        0\n",
      "dtype: int64\n",
      "scores           0\n",
      "all_responses    0\n",
      "first_score      0\n",
      "prob_score       0\n",
      "fluency          0\n",
      "dtype: int64\n",
      "scores           0\n",
      "all_responses    0\n",
      "first_score      0\n",
      "prob_score       0\n",
      "consistency      0\n",
      "dtype: int64\n",
      "scores           0\n",
      "all_responses    0\n",
      "first_score      0\n",
      "prob_score       0\n",
      "relevance        0\n",
      "dtype: int64\n"
     ]
    }
   ],
   "source": [
    "Preping_df(haiku_coh, 'coherence')\n",
    "Preping_df(haiku_flu, 'fluency')\n",
    "Preping_df(haiku_con, 'consistency')\n",
    "Preping_df(haiku_rel, 'relevance')"
   ]
  },
  {
   "cell_type": "code",
   "execution_count": 9,
   "metadata": {},
   "outputs": [
    {
     "name": "stdout",
     "output_type": "stream",
     "text": [
      "scores           0\n",
      "all_responses    0\n",
      "first_score      1\n",
      "prob_score       0\n",
      "coherence        0\n",
      "dtype: int64\n",
      "scores            0\n",
      "all_responses     0\n",
      "first_score      60\n",
      "prob_score        0\n",
      "fluency           0\n",
      "dtype: int64\n",
      "scores            0\n",
      "all_responses     0\n",
      "first_score      33\n",
      "prob_score       26\n",
      "consistency       0\n",
      "dtype: int64\n",
      "scores            0\n",
      "all_responses     0\n",
      "first_score      11\n",
      "prob_score        5\n",
      "relevance         0\n",
      "dtype: int64\n"
     ]
    },
    {
     "name": "stderr",
     "output_type": "stream",
     "text": [
      "/opt/homebrew/anaconda3/envs/LLM_research/lib/python3.12/site-packages/numpy/core/fromnumeric.py:3504: RuntimeWarning: Mean of empty slice.\n",
      "  return _methods._mean(a, axis=axis, dtype=dtype,\n",
      "/opt/homebrew/anaconda3/envs/LLM_research/lib/python3.12/site-packages/numpy/core/_methods.py:129: RuntimeWarning: invalid value encountered in scalar divide\n",
      "  ret = ret.dtype.type(ret / rcount)\n",
      "/opt/homebrew/anaconda3/envs/LLM_research/lib/python3.12/site-packages/numpy/core/fromnumeric.py:3504: RuntimeWarning: Mean of empty slice.\n",
      "  return _methods._mean(a, axis=axis, dtype=dtype,\n",
      "/opt/homebrew/anaconda3/envs/LLM_research/lib/python3.12/site-packages/numpy/core/_methods.py:129: RuntimeWarning: invalid value encountered in scalar divide\n",
      "  ret = ret.dtype.type(ret / rcount)\n"
     ]
    }
   ],
   "source": [
    "Preping_df(haiku_coh_just, 'coherence')\n",
    "Preping_df(haiku_flu_just, 'fluency')\n",
    "Preping_df(haiku_con_just, 'consistency')\n",
    "Preping_df(haiku_rel_just, 'relevance')"
   ]
  },
  {
   "cell_type": "code",
   "execution_count": 10,
   "metadata": {},
   "outputs": [
    {
     "name": "stdout",
     "output_type": "stream",
     "text": [
      "scores           0\n",
      "all_responses    0\n",
      "first_score      1\n",
      "prob_score       0\n",
      "coherence        0\n",
      "dtype: int64\n",
      "scores           0\n",
      "all_responses    0\n",
      "first_score      0\n",
      "prob_score       0\n",
      "fluency          0\n",
      "dtype: int64\n",
      "scores           0\n",
      "all_responses    0\n",
      "first_score      0\n",
      "prob_score       0\n",
      "consistency      0\n",
      "dtype: int64\n",
      "scores           0\n",
      "all_responses    0\n",
      "first_score      0\n",
      "prob_score       0\n",
      "relevance        0\n",
      "dtype: int64\n"
     ]
    }
   ],
   "source": [
    "Preping_df(gpt4_coh, 'coherence')\n",
    "Preping_df(gpt4_flu, 'fluency')\n",
    "Preping_df(gpt4_con, 'consistency')\n",
    "Preping_df(gpt4_rel, 'relevance')"
   ]
  },
  {
   "cell_type": "code",
   "execution_count": 11,
   "metadata": {},
   "outputs": [
    {
     "name": "stdout",
     "output_type": "stream",
     "text": [
      "scores           0\n",
      "all_responses    0\n",
      "first_score      1\n",
      "prob_score       0\n",
      "coherence        0\n",
      "dtype: int64\n",
      "scores           0\n",
      "all_responses    0\n",
      "first_score      0\n",
      "prob_score       0\n",
      "fluency          0\n",
      "dtype: int64\n",
      "scores           0\n",
      "all_responses    0\n",
      "first_score      2\n",
      "prob_score       0\n",
      "consistency      0\n",
      "dtype: int64\n",
      "scores           0\n",
      "all_responses    0\n",
      "first_score      0\n",
      "prob_score       0\n",
      "relevance        0\n",
      "dtype: int64\n"
     ]
    }
   ],
   "source": [
    "Preping_df(sonnet_coh, 'coherence')\n",
    "Preping_df(sonnet_flu, 'fluency')\n",
    "Preping_df(sonnet_con, 'consistency')\n",
    "Preping_df(sonnet_rel, 'relevance')"
   ]
  },
  {
   "cell_type": "code",
   "execution_count": 12,
   "metadata": {},
   "outputs": [
    {
     "name": "stdout",
     "output_type": "stream",
     "text": [
      "scores           0\n",
      "all_responses    0\n",
      "first_score      2\n",
      "prob_score       2\n",
      "coherence        0\n",
      "dtype: int64\n"
     ]
    },
    {
     "name": "stderr",
     "output_type": "stream",
     "text": [
      "/opt/homebrew/anaconda3/envs/LLM_research/lib/python3.12/site-packages/numpy/core/fromnumeric.py:3504: RuntimeWarning: Mean of empty slice.\n",
      "  return _methods._mean(a, axis=axis, dtype=dtype,\n",
      "/opt/homebrew/anaconda3/envs/LLM_research/lib/python3.12/site-packages/numpy/core/_methods.py:129: RuntimeWarning: invalid value encountered in scalar divide\n",
      "  ret = ret.dtype.type(ret / rcount)\n"
     ]
    },
    {
     "name": "stdout",
     "output_type": "stream",
     "text": [
      "scores           0\n",
      "all_responses    0\n",
      "first_score      0\n",
      "prob_score       0\n",
      "fluency          0\n",
      "dtype: int64\n",
      "scores           0\n",
      "all_responses    0\n",
      "first_score      0\n",
      "prob_score       0\n",
      "consistency      0\n",
      "dtype: int64\n",
      "scores           0\n",
      "all_responses    0\n",
      "first_score      2\n",
      "prob_score       2\n",
      "relevance        0\n",
      "dtype: int64\n"
     ]
    },
    {
     "name": "stderr",
     "output_type": "stream",
     "text": [
      "/opt/homebrew/anaconda3/envs/LLM_research/lib/python3.12/site-packages/numpy/core/fromnumeric.py:3504: RuntimeWarning: Mean of empty slice.\n",
      "  return _methods._mean(a, axis=axis, dtype=dtype,\n",
      "/opt/homebrew/anaconda3/envs/LLM_research/lib/python3.12/site-packages/numpy/core/_methods.py:129: RuntimeWarning: invalid value encountered in scalar divide\n",
      "  ret = ret.dtype.type(ret / rcount)\n"
     ]
    }
   ],
   "source": [
    "Preping_df(opus_coh, 'coherence')\n",
    "Preping_df(opus_flu, 'fluency')\n",
    "Preping_df(opus_con, 'consistency')\n",
    "Preping_df(opus_rel, 'relevance')"
   ]
  },
  {
   "cell_type": "code",
   "execution_count": 26,
   "metadata": {},
   "outputs": [
    {
     "name": "stdout",
     "output_type": "stream",
     "text": [
      "scores           0\n",
      "all_responses    0\n",
      "first_score      3\n",
      "prob_score       0\n",
      "coherence        0\n",
      "dtype: int64\n",
      "scores           0\n",
      "all_responses    0\n",
      "first_score      0\n",
      "prob_score       0\n",
      "fluency          0\n",
      "dtype: int64\n",
      "scores             0\n",
      "all_responses      0\n",
      "first_score      216\n",
      "prob_score         5\n",
      "consistency        0\n",
      "dtype: int64\n",
      "scores            0\n",
      "all_responses     0\n",
      "first_score      14\n",
      "prob_score        0\n",
      "relevance         0\n",
      "dtype: int64\n"
     ]
    },
    {
     "name": "stderr",
     "output_type": "stream",
     "text": [
      "/opt/homebrew/anaconda3/envs/LLM_research/lib/python3.12/site-packages/numpy/core/fromnumeric.py:3504: RuntimeWarning: Mean of empty slice.\n",
      "  return _methods._mean(a, axis=axis, dtype=dtype,\n",
      "/opt/homebrew/anaconda3/envs/LLM_research/lib/python3.12/site-packages/numpy/core/_methods.py:129: RuntimeWarning: invalid value encountered in scalar divide\n",
      "  ret = ret.dtype.type(ret / rcount)\n"
     ]
    }
   ],
   "source": [
    "Preping_df(gpt4o_coh, 'coherence')\n",
    "Preping_df(gpt4o_flu, 'fluency')\n",
    "Preping_df(gpt4o_con, 'consistency')\n",
    "Preping_df(gpt4o_rel, 'relevance')"
   ]
  },
  {
   "cell_type": "markdown",
   "metadata": {},
   "source": [
    "### Spearman"
   ]
  },
  {
   "cell_type": "markdown",
   "metadata": {},
   "source": [
    "GPT"
   ]
  },
  {
   "cell_type": "code",
   "execution_count": 14,
   "metadata": {},
   "outputs": [
    {
     "name": "stdout",
     "output_type": "stream",
     "text": [
      "Spearman Correlation Coefficient for coherence - one score : 0.398\n",
      "Spearman Correlation Coefficient for coherence - probability score : 0.555\n",
      "Spearman Correlation Coefficient for fluency - one score : 0.266\n",
      "Spearman Correlation Coefficient for fluency - probability score : 0.342\n",
      "Spearman Correlation Coefficient for consistency - one score : 0.399\n",
      "Spearman Correlation Coefficient for consistency - probability score : 0.436\n",
      "Spearman Correlation Coefficient for relevance - one score : 0.421\n",
      "Spearman Correlation Coefficient for relevance - probability score : 0.508\n"
     ]
    }
   ],
   "source": [
    "Spearman_calculation(gpt35_coh, 'coherence')\n",
    "Spearman_calculation(gpt35_flu, 'fluency')\n",
    "Spearman_calculation(gpt35_con, 'consistency')\n",
    "Spearman_calculation(gpt35_rel, 'relevance')"
   ]
  },
  {
   "cell_type": "markdown",
   "metadata": {},
   "source": [
    "GPT with justification"
   ]
  },
  {
   "cell_type": "code",
   "execution_count": 15,
   "metadata": {},
   "outputs": [
    {
     "name": "stdout",
     "output_type": "stream",
     "text": [
      "Spearman Correlation Coefficient for coherence - one score : 0.367\n",
      "Spearman Correlation Coefficient for coherence - probability score : 0.534\n",
      "Spearman Correlation Coefficient for fluency - one score : 0.195\n",
      "Spearman Correlation Coefficient for fluency - probability score : 0.320\n",
      "Spearman Correlation Coefficient for consistency - one score : 0.309\n",
      "Spearman Correlation Coefficient for consistency - probability score : 0.377\n",
      "Spearman Correlation Coefficient for relevance - one score : 0.263\n",
      "Spearman Correlation Coefficient for relevance - probability score : 0.453\n"
     ]
    }
   ],
   "source": [
    "Spearman_calculation(gpt35_coh_just, 'coherence')\n",
    "Spearman_calculation(gpt35_flu_just, 'fluency')\n",
    "Spearman_calculation(gpt35_con_just, 'consistency')\n",
    "Spearman_calculation(gpt35_rel_just, 'relevance')"
   ]
  },
  {
   "cell_type": "markdown",
   "metadata": {},
   "source": [
    "Haiku"
   ]
  },
  {
   "cell_type": "code",
   "execution_count": 16,
   "metadata": {},
   "outputs": [
    {
     "name": "stdout",
     "output_type": "stream",
     "text": [
      "Spearman Correlation Coefficient for coherence - one score : 0.396\n",
      "Spearman Correlation Coefficient for coherence - probability score : 0.487\n",
      "Spearman Correlation Coefficient for fluency - one score : 0.298\n",
      "Spearman Correlation Coefficient for fluency - probability score : 0.393\n",
      "Spearman Correlation Coefficient for consistency - one score : 0.421\n",
      "Spearman Correlation Coefficient for consistency - probability score : 0.448\n",
      "Spearman Correlation Coefficient for relevance - one score : 0.382\n",
      "Spearman Correlation Coefficient for relevance - probability score : 0.516\n"
     ]
    }
   ],
   "source": [
    "Spearman_calculation(haiku_coh, 'coherence')\n",
    "Spearman_calculation(haiku_flu, 'fluency')\n",
    "Spearman_calculation(haiku_con, 'consistency')\n",
    "Spearman_calculation(haiku_rel, 'relevance')"
   ]
  },
  {
   "cell_type": "markdown",
   "metadata": {},
   "source": [
    "Haiku with justification"
   ]
  },
  {
   "cell_type": "code",
   "execution_count": 17,
   "metadata": {},
   "outputs": [
    {
     "name": "stdout",
     "output_type": "stream",
     "text": [
      "Spearman Correlation Coefficient for coherence - one score : 0.430\n",
      "Spearman Correlation Coefficient for coherence - probability score : 0.547\n",
      "Spearman Correlation Coefficient for fluency - one score : 0.312\n",
      "Spearman Correlation Coefficient for fluency - probability score : 0.385\n",
      "Spearman Correlation Coefficient for consistency - one score : 0.417\n",
      "Spearman Correlation Coefficient for consistency - probability score : 0.431\n",
      "Spearman Correlation Coefficient for relevance - one score : 0.420\n",
      "Spearman Correlation Coefficient for relevance - probability score : 0.519\n"
     ]
    }
   ],
   "source": [
    "Spearman_calculation(haiku_coh_just, 'coherence')\n",
    "Spearman_calculation(haiku_flu_just, 'fluency')\n",
    "Spearman_calculation(haiku_con_just, 'consistency')\n",
    "Spearman_calculation(haiku_rel_just, 'relevance')"
   ]
  },
  {
   "cell_type": "markdown",
   "metadata": {},
   "source": [
    "GPT4 "
   ]
  },
  {
   "cell_type": "code",
   "execution_count": 18,
   "metadata": {},
   "outputs": [
    {
     "name": "stdout",
     "output_type": "stream",
     "text": [
      "Spearman Correlation Coefficient for coherence - one score : 0.521\n",
      "Spearman Correlation Coefficient for coherence - probability score : 0.544\n",
      "Spearman Correlation Coefficient for fluency - one score : 0.385\n",
      "Spearman Correlation Coefficient for fluency - probability score : 0.380\n",
      "Spearman Correlation Coefficient for consistency - one score : 0.643\n",
      "Spearman Correlation Coefficient for consistency - probability score : 0.612\n",
      "Spearman Correlation Coefficient for relevance - one score : 0.510\n",
      "Spearman Correlation Coefficient for relevance - probability score : 0.534\n"
     ]
    }
   ],
   "source": [
    "Spearman_calculation(gpt4_coh, 'coherence')\n",
    "Spearman_calculation(gpt4_flu, 'fluency')\n",
    "Spearman_calculation(gpt4_con, 'consistency')\n",
    "Spearman_calculation(gpt4_rel, 'relevance')"
   ]
  },
  {
   "cell_type": "markdown",
   "metadata": {},
   "source": [
    "Sonnet"
   ]
  },
  {
   "cell_type": "code",
   "execution_count": 19,
   "metadata": {},
   "outputs": [
    {
     "name": "stdout",
     "output_type": "stream",
     "text": [
      "Spearman Correlation Coefficient for coherence - one score : 0.436\n",
      "Spearman Correlation Coefficient for coherence - probability score : 0.502\n",
      "Spearman Correlation Coefficient for fluency - one score : 0.323\n",
      "Spearman Correlation Coefficient for fluency - probability score : 0.370\n",
      "Spearman Correlation Coefficient for consistency - one score : 0.653\n",
      "Spearman Correlation Coefficient for consistency - probability score : 0.628\n",
      "Spearman Correlation Coefficient for relevance - one score : 0.476\n",
      "Spearman Correlation Coefficient for relevance - probability score : 0.542\n"
     ]
    }
   ],
   "source": [
    "Spearman_calculation(sonnet_coh, 'coherence')\n",
    "Spearman_calculation(sonnet_flu, 'fluency')\n",
    "Spearman_calculation(sonnet_con, 'consistency')\n",
    "Spearman_calculation(sonnet_rel, 'relevance')"
   ]
  },
  {
   "cell_type": "markdown",
   "metadata": {},
   "source": [
    "Opus"
   ]
  },
  {
   "cell_type": "code",
   "execution_count": 20,
   "metadata": {},
   "outputs": [
    {
     "name": "stdout",
     "output_type": "stream",
     "text": [
      "Spearman Correlation Coefficient for coherence - one score : 0.516\n",
      "Spearman Correlation Coefficient for coherence - probability score : 0.516\n",
      "Spearman Correlation Coefficient for fluency - one score : 0.456\n",
      "Spearman Correlation Coefficient for fluency - probability score : 0.456\n",
      "Spearman Correlation Coefficient for consistency - one score : 0.612\n",
      "Spearman Correlation Coefficient for consistency - probability score : 0.612\n",
      "Spearman Correlation Coefficient for relevance - one score : 0.530\n",
      "Spearman Correlation Coefficient for relevance - probability score : 0.530\n"
     ]
    }
   ],
   "source": [
    "Spearman_calculation(opus_coh, 'coherence')\n",
    "Spearman_calculation(opus_flu, 'fluency')\n",
    "Spearman_calculation(opus_con, 'consistency')\n",
    "Spearman_calculation(opus_rel, 'relevance')"
   ]
  },
  {
   "cell_type": "markdown",
   "metadata": {},
   "source": [
    "GPT4o"
   ]
  },
  {
   "cell_type": "code",
   "execution_count": 27,
   "metadata": {},
   "outputs": [
    {
     "name": "stdout",
     "output_type": "stream",
     "text": [
      "Spearman Correlation Coefficient for coherence - one score : 0.449\n"
     ]
    },
    {
     "name": "stdout",
     "output_type": "stream",
     "text": [
      "Spearman Correlation Coefficient for coherence - probability score : 0.539\n",
      "Spearman Correlation Coefficient for fluency - one score : 0.322\n",
      "Spearman Correlation Coefficient for fluency - probability score : 0.406\n",
      "Spearman Correlation Coefficient for consistency - one score : 0.523\n",
      "Spearman Correlation Coefficient for consistency - probability score : 0.521\n",
      "Spearman Correlation Coefficient for relevance - one score : 0.540\n",
      "Spearman Correlation Coefficient for relevance - probability score : 0.591\n"
     ]
    }
   ],
   "source": [
    "Spearman_calculation(gpt4o_coh, 'coherence')\n",
    "Spearman_calculation(gpt4o_flu, 'fluency')\n",
    "Spearman_calculation(gpt4o_con, 'consistency')\n",
    "Spearman_calculation(gpt4o_rel, 'relevance')"
   ]
  },
  {
   "cell_type": "markdown",
   "metadata": {},
   "source": [
    "### Prompting workshop"
   ]
  },
  {
   "cell_type": "code",
   "execution_count": 31,
   "metadata": {},
   "outputs": [
    {
     "name": "stderr",
     "output_type": "stream",
     "text": [
      "Matplotlib is building the font cache; this may take a moment.\n"
     ]
    }
   ],
   "source": [
    "import matplotlib.pyplot as plt"
   ]
  },
  {
   "cell_type": "code",
   "execution_count": 8,
   "metadata": {},
   "outputs": [
    {
     "name": "stdout",
     "output_type": "stream",
     "text": [
      "gpt4o_flu_1\n"
     ]
    }
   ],
   "source": [
    "def process_gpt_files(directory):\n",
    "    df_list = []\n",
    "    for filename in os.listdir(directory):\n",
    "        if filename.endswith('.json'):\n",
    "            file_path = os.path.join(directory, filename)\n",
    "            df_name = os.path.splitext(filename)[0]  # Extracting file name without extension\n",
    "            with open(file_path, 'r') as file:\n",
    "                data = json.load(file)\n",
    "                df = pd.DataFrame(data)\n",
    "                df = df[['scores', 'all_responses']]\n",
    "                df.loc[:, 'first_score'] = df['all_responses'].apply(lambda x: x[0])\n",
    "            globals()[df_name] = df  # Assigning DataFrame to dynamically named variable\n",
    "            print(df_name)\n",
    "            df_list.append(df)\n",
    "    return df_list\n",
    "\n",
    "directory = 'results/prompting'\n",
    "list_gpt = process_gpt_files(directory)"
   ]
  },
  {
   "cell_type": "code",
   "execution_count": 9,
   "metadata": {},
   "outputs": [
    {
     "name": "stdout",
     "output_type": "stream",
     "text": [
      "scores           0\n",
      "all_responses    0\n",
      "first_score      1\n",
      "prob_score       0\n",
      "fluency          0\n",
      "dtype: int64\n",
      "Spearman Correlation Coefficient for fluency - one score : 0.280\n",
      "Spearman Correlation Coefficient for fluency - probability score : 0.351\n"
     ]
    }
   ],
   "source": [
    "Preping_df(gpt4o_flu_1, 'fluency')\n",
    "Spearman_calculation(gpt4o_flu_1, 'fluency')"
   ]
  },
  {
   "cell_type": "code",
   "execution_count": 16,
   "metadata": {},
   "outputs": [],
   "source": [
    "gpt4o_flu_1['fluency'] = gpt4o_flu_1['scores'].apply(lambda x: x['fluency'])"
   ]
  },
  {
   "cell_type": "code",
   "execution_count": 20,
   "metadata": {},
   "outputs": [],
   "source": [
    "gpt4o_flu_1['fluency'] = gpt4o_flu_1['fluency'].astype(int)"
   ]
  },
  {
   "cell_type": "code",
   "execution_count": 21,
   "metadata": {},
   "outputs": [
    {
     "data": {
      "text/plain": [
       "0      3\n",
       "1      5\n",
       "2      5\n",
       "3      5\n",
       "4      3\n",
       "      ..\n",
       "795    5\n",
       "796    4\n",
       "797    5\n",
       "798    4\n",
       "799    3\n",
       "Name: fluency, Length: 799, dtype: int64"
      ]
     },
     "execution_count": 21,
     "metadata": {},
     "output_type": "execute_result"
    }
   ],
   "source": [
    "gpt4o_flu_1['fluency']"
   ]
  },
  {
   "cell_type": "code",
   "execution_count": 22,
   "metadata": {},
   "outputs": [
    {
     "data": {
      "text/plain": [
       "4.51314142678348"
      ]
     },
     "execution_count": 22,
     "metadata": {},
     "output_type": "execute_result"
    }
   ],
   "source": [
    "gpt4o_flu_1['fluency'].mean()"
   ]
  },
  {
   "cell_type": "code",
   "execution_count": 24,
   "metadata": {},
   "outputs": [
    {
     "data": {
      "text/plain": [
       "3.096245306633292"
      ]
     },
     "execution_count": 24,
     "metadata": {},
     "output_type": "execute_result"
    }
   ],
   "source": [
    "gpt4o_flu_1['prob_score'].mean()"
   ]
  },
  {
   "cell_type": "code",
   "execution_count": 28,
   "metadata": {},
   "outputs": [
    {
     "data": {
      "text/plain": [
       "3.029473684210526"
      ]
     },
     "execution_count": 28,
     "metadata": {},
     "output_type": "execute_result"
    }
   ],
   "source": [
    "gpt4o_flu['prob_score'].mean()"
   ]
  },
  {
   "cell_type": "code",
   "execution_count": 36,
   "metadata": {},
   "outputs": [
    {
     "data": {
      "text/plain": [
       "(array([ 14.,   0.,  30.,   0.,   0.,  45.,   0., 153.,   0., 557.]),\n",
       " array([1. , 1.4, 1.8, 2.2, 2.6, 3. , 3.4, 3.8, 4.2, 4.6, 5. ]),\n",
       " <BarContainer object of 10 artists>)"
      ]
     },
     "execution_count": 36,
     "metadata": {},
     "output_type": "execute_result"
    },
    {
     "data": {
      "image/png": "[encoded data removed]",
      "text/plain": [
       "<Figure size 640x480 with 1 Axes>"
      ]
     },
     "metadata": {},
     "output_type": "display_data"
    }
   ],
   "source": [
    "plt.hist(gpt4o_flu_1['fluency'])"
   ]
  },
  {
   "cell_type": "code",
   "execution_count": 37,
   "metadata": {},
   "outputs": [
    {
     "data": {
      "text/plain": [
       "(array([ 22.,  34., 143., 273., 357., 352., 182.,  87.,  36., 114.]),\n",
       " array([1. , 1.4, 1.8, 2.2, 2.6, 3. , 3.4, 3.8, 4.2, 4.6, 5. ]),\n",
       " <BarContainer object of 10 artists>)"
      ]
     },
     "execution_count": 37,
     "metadata": {},
     "output_type": "execute_result"
    },
    {
     "data": {
      "image/png": "[encoded data removed]",
      "text/plain": [
       "<Figure size 640x480 with 1 Axes>"
      ]
     },
     "metadata": {},
     "output_type": "display_data"
    }
   ],
   "source": [
    "plt.hist(gpt4o_flu['prob_score'])"
   ]
  },
  {
   "cell_type": "code",
   "execution_count": 38,
   "metadata": {},
   "outputs": [
    {
     "data": {
      "text/plain": [
       "(array([  5.,  13.,  55., 131., 207., 170.,  89.,  34.,  18.,  77.]),\n",
       " array([1. , 1.4, 1.8, 2.2, 2.6, 3. , 3.4, 3.8, 4.2, 4.6, 5. ]),\n",
       " <BarContainer object of 10 artists>)"
      ]
     },
     "execution_count": 38,
     "metadata": {},
     "output_type": "execute_result"
    },
    {
     "data": {
      "image/png": "[encoded data removed]",
      "text/plain": [
       "<Figure size 640x480 with 1 Axes>"
      ]
     },
     "metadata": {},
     "output_type": "display_data"
    }
   ],
   "source": [
    "plt.hist(gpt4o_flu_1['prob_score'])"
   ]
  },
  {
   "cell_type": "code",
   "execution_count": null,
   "metadata": {},
   "outputs": [],
   "source": []
  }
 ],
 "metadata": {
  "kernelspec": {
   "display_name": "LLM_research",
   "language": "python",
   "name": "python3"
  },
  "language_info": {
   "codemirror_mode": {
    "name": "ipython",
    "version": 3
   },
   "file_extension": ".py",
   "mimetype": "text/x-python",
   "name": "python",
   "nbconvert_exporter": "python",
   "pygments_lexer": "ipython3",
   "version": "3.12.3"
  }
 },
 "nbformat": 4,
 "nbformat_minor": 2
}
