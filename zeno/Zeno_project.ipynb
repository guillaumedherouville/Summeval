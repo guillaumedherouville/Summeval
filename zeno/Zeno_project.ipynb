{
 "cells": [
  {
   "cell_type": "code",
   "execution_count": 3,
   "metadata": {},
   "outputs": [],
   "source": [
    "from zeno_client import ZenoClient, ZenoMetric\n",
    "import pandas as pd\n",
    "import json\n",
    "import numpy as np"
   ]
  },
  {
   "cell_type": "code",
   "execution_count": 4,
   "metadata": {},
   "outputs": [],
   "source": [
    "client = ZenoClient(\"zen_kLh235pvRwxLNZctmZiUcVJc4VOXfMdXdrXZwHZdp4I\")"
   ]
  },
  {
   "cell_type": "markdown",
   "metadata": {},
   "source": [
    "## From CSV"
   ]
  },
  {
   "cell_type": "code",
   "execution_count": 6,
   "metadata": {},
   "outputs": [],
   "source": [
    "df_gpt4 = pd.read_csv(\"results/for_analysis/gpt/gpt4_zeno.csv\")"
   ]
  },
  {
   "cell_type": "code",
   "execution_count": null,
   "metadata": {},
   "outputs": [],
   "source": []
  },
  {
   "cell_type": "code",
   "execution_count": null,
   "metadata": {},
   "outputs": [],
   "source": []
  },
  {
   "cell_type": "code",
   "execution_count": null,
   "metadata": {},
   "outputs": [],
   "source": []
  },
  {
   "cell_type": "markdown",
   "metadata": {},
   "source": [
    "## CUTOFF"
   ]
  },
  {
   "cell_type": "code",
   "execution_count": 160,
   "metadata": {},
   "outputs": [],
   "source": [
    "file_path = 'results/for_analysis/gpt/gpt4_coh.json'"
   ]
  },
  {
   "cell_type": "code",
   "execution_count": 161,
   "metadata": {},
   "outputs": [
    {
     "data": {
      "text/html": [
       "<div>\n",
       "<style scoped>\n",
       "    .dataframe tbody tr th:only-of-type {\n",
       "        vertical-align: middle;\n",
       "    }\n",
       "\n",
       "    .dataframe tbody tr th {\n",
       "        vertical-align: top;\n",
       "    }\n",
       "\n",
       "    .dataframe thead th {\n",
       "        text-align: right;\n",
       "    }\n",
       "</style>\n",
       "<table border=\"1\" class=\"dataframe\">\n",
       "  <thead>\n",
       "    <tr style=\"text-align: right;\">\n",
       "      <th></th>\n",
       "      <th>doc_id</th>\n",
       "      <th>system_id</th>\n",
       "      <th>source</th>\n",
       "      <th>reference</th>\n",
       "      <th>system_output</th>\n",
       "      <th>scores</th>\n",
       "      <th>prompt</th>\n",
       "      <th>all_responses</th>\n",
       "    </tr>\n",
       "  </thead>\n",
       "  <tbody>\n",
       "    <tr>\n",
       "      <th>0</th>\n",
       "      <td>dm-test-8764fb95bfad8ee849274873a92fb8d6b400eee2</td>\n",
       "      <td>M11</td>\n",
       "      <td>Paul Merson has restarted his row with Andros ...</td>\n",
       "      <td>Andros Townsend an 83rd minute sub in Tottenha...</td>\n",
       "      <td>Paul merson was brought on with only seven min...</td>\n",
       "      <td>{'coherence': 1.3333333333333333, 'consistency...</td>\n",
       "      <td>You will be given one summary written for a ne...</td>\n",
       "      <td>[Coherence: 1, Coherence: 2, Coherence: 2, Coh...</td>\n",
       "    </tr>\n",
       "    <tr>\n",
       "      <th>1</th>\n",
       "      <td>dm-test-8764fb95bfad8ee849274873a92fb8d6b400eee2</td>\n",
       "      <td>M13</td>\n",
       "      <td>Paul Merson has restarted his row with Andros ...</td>\n",
       "      <td>Andros Townsend an 83rd minute sub in Tottenha...</td>\n",
       "      <td>Paul merson has restarted his row with andros ...</td>\n",
       "      <td>{'coherence': 2.3333333333333335, 'consistency...</td>\n",
       "      <td>You will be given one summary written for a ne...</td>\n",
       "      <td>[Coherence: 3, Coherence: 3, Coherence: 3, Coh...</td>\n",
       "    </tr>\n",
       "    <tr>\n",
       "      <th>2</th>\n",
       "      <td>dm-test-8764fb95bfad8ee849274873a92fb8d6b400eee2</td>\n",
       "      <td>M1</td>\n",
       "      <td>Paul Merson has restarted his row with Andros ...</td>\n",
       "      <td>Andros Townsend an 83rd minute sub in Tottenha...</td>\n",
       "      <td>Paul merson has restarted his row with andros ...</td>\n",
       "      <td>{'coherence': 2.3333333333333335, 'consistency...</td>\n",
       "      <td>You will be given one summary written for a ne...</td>\n",
       "      <td>[Coherence: 4, Coherence: 4, Coherence: 4, Coh...</td>\n",
       "    </tr>\n",
       "    <tr>\n",
       "      <th>3</th>\n",
       "      <td>dm-test-8764fb95bfad8ee849274873a92fb8d6b400eee2</td>\n",
       "      <td>M14</td>\n",
       "      <td>Paul Merson has restarted his row with Andros ...</td>\n",
       "      <td>Andros Townsend an 83rd minute sub in Tottenha...</td>\n",
       "      <td>Paul merson has restarted his row with andros ...</td>\n",
       "      <td>{'coherence': 1.6666666666666667, 'consistency...</td>\n",
       "      <td>You will be given one summary written for a ne...</td>\n",
       "      <td>[Coherence: 3, Coherence: 3, Coherence: 2, Coh...</td>\n",
       "    </tr>\n",
       "    <tr>\n",
       "      <th>4</th>\n",
       "      <td>dm-test-8764fb95bfad8ee849274873a92fb8d6b400eee2</td>\n",
       "      <td>M15</td>\n",
       "      <td>Paul Merson has restarted his row with Andros ...</td>\n",
       "      <td>Andros Townsend an 83rd minute sub in Tottenha...</td>\n",
       "      <td>Paul merson has restarted his row with andros ...</td>\n",
       "      <td>{'coherence': 3.3333333333333335, 'consistency...</td>\n",
       "      <td>You will be given one summary written for a ne...</td>\n",
       "      <td>[Coherence: 4, Coherence: 3, Coherence: 3, Coh...</td>\n",
       "    </tr>\n",
       "  </tbody>\n",
       "</table>\n",
       "</div>"
      ],
      "text/plain": [
       "                                             doc_id system_id  \\\n",
       "0  dm-test-8764fb95bfad8ee849274873a92fb8d6b400eee2       M11   \n",
       "1  dm-test-8764fb95bfad8ee849274873a92fb8d6b400eee2       M13   \n",
       "2  dm-test-8764fb95bfad8ee849274873a92fb8d6b400eee2        M1   \n",
       "3  dm-test-8764fb95bfad8ee849274873a92fb8d6b400eee2       M14   \n",
       "4  dm-test-8764fb95bfad8ee849274873a92fb8d6b400eee2       M15   \n",
       "\n",
       "                                              source  \\\n",
       "0  Paul Merson has restarted his row with Andros ...   \n",
       "1  Paul Merson has restarted his row with Andros ...   \n",
       "2  Paul Merson has restarted his row with Andros ...   \n",
       "3  Paul Merson has restarted his row with Andros ...   \n",
       "4  Paul Merson has restarted his row with Andros ...   \n",
       "\n",
       "                                           reference  \\\n",
       "0  Andros Townsend an 83rd minute sub in Tottenha...   \n",
       "1  Andros Townsend an 83rd minute sub in Tottenha...   \n",
       "2  Andros Townsend an 83rd minute sub in Tottenha...   \n",
       "3  Andros Townsend an 83rd minute sub in Tottenha...   \n",
       "4  Andros Townsend an 83rd minute sub in Tottenha...   \n",
       "\n",
       "                                       system_output  \\\n",
       "0  Paul merson was brought on with only seven min...   \n",
       "1  Paul merson has restarted his row with andros ...   \n",
       "2  Paul merson has restarted his row with andros ...   \n",
       "3  Paul merson has restarted his row with andros ...   \n",
       "4  Paul merson has restarted his row with andros ...   \n",
       "\n",
       "                                              scores  \\\n",
       "0  {'coherence': 1.3333333333333333, 'consistency...   \n",
       "1  {'coherence': 2.3333333333333335, 'consistency...   \n",
       "2  {'coherence': 2.3333333333333335, 'consistency...   \n",
       "3  {'coherence': 1.6666666666666667, 'consistency...   \n",
       "4  {'coherence': 3.3333333333333335, 'consistency...   \n",
       "\n",
       "                                              prompt  \\\n",
       "0  You will be given one summary written for a ne...   \n",
       "1  You will be given one summary written for a ne...   \n",
       "2  You will be given one summary written for a ne...   \n",
       "3  You will be given one summary written for a ne...   \n",
       "4  You will be given one summary written for a ne...   \n",
       "\n",
       "                                       all_responses  \n",
       "0  [Coherence: 1, Coherence: 2, Coherence: 2, Coh...  \n",
       "1  [Coherence: 3, Coherence: 3, Coherence: 3, Coh...  \n",
       "2  [Coherence: 4, Coherence: 4, Coherence: 4, Coh...  \n",
       "3  [Coherence: 3, Coherence: 3, Coherence: 2, Coh...  \n",
       "4  [Coherence: 4, Coherence: 3, Coherence: 3, Coh...  "
      ]
     },
     "execution_count": 161,
     "metadata": {},
     "output_type": "execute_result"
    }
   ],
   "source": [
    "with open(file_path, 'r') as file:\n",
    "            data = json.load(file)\n",
    "            df = pd.DataFrame(data)\n",
    "df.head()"
   ]
  },
  {
   "cell_type": "code",
   "execution_count": 14,
   "metadata": {},
   "outputs": [],
   "source": [
    "df_init = df[['source', 'system_output', 'scores']]"
   ]
  },
  {
   "cell_type": "code",
   "execution_count": 25,
   "metadata": {},
   "outputs": [],
   "source": [
    "df.loc[:, \"id\"] = df.index.astype(str)"
   ]
  },
  {
   "cell_type": "code",
   "execution_count": 23,
   "metadata": {},
   "outputs": [
    {
     "name": "stderr",
     "output_type": "stream",
     "text": [
      "/var/folders/jm/2zytm77j0ms47q8tymwmv8800000gn/T/ipykernel_32290/2098530224.py:1: SettingWithCopyWarning: \n",
      "A value is trying to be set on a copy of a slice from a DataFrame.\n",
      "Try using .loc[row_indexer,col_indexer] = value instead\n",
      "\n",
      "See the caveats in the documentation: https://pandas.pydata.org/pandas-docs/stable/user_guide/indexing.html#returning-a-view-versus-a-copy\n",
      "  df_init['data'] = 'Source : \\n' + df_init['source'] + '\\n\\nSummary : \\n' + df_init['system_output']\n"
     ]
    }
   ],
   "source": [
    "df_init['data'] = 'Source : \\n' + df_init['source'] + '\\n\\nSummary : \\n' + df_init['system_output']"
   ]
  },
  {
   "cell_type": "code",
   "execution_count": null,
   "metadata": {},
   "outputs": [],
   "source": [
    "df_init.drop(columns=['source', 'system_output'], inplace=True)"
   ]
  },
  {
   "cell_type": "code",
   "execution_count": 121,
   "metadata": {},
   "outputs": [
    {
     "name": "stdout",
     "output_type": "stream",
     "text": [
      "Successfully updated project.\n",
      "Access your project at  https://hub.zenoml.com/project/6dda2a1e-e3e1-4b0a-8b31-0e2b3b19b1cf/SummEval\n"
     ]
    },
    {
     "data": {
      "application/vnd.jupyter.widget-view+json": {
       "model_id": "74cc28995f624ec893d290b1339622c0",
       "version_major": 2,
       "version_minor": 0
      },
      "text/plain": [
       "  0%|          | 0/5 [00:00<?, ?it/s]"
      ]
     },
     "metadata": {},
     "output_type": "display_data"
    },
    {
     "name": "stdout",
     "output_type": "stream",
     "text": [
      "Successfully uploaded data\n"
     ]
    }
   ],
   "source": [
    "project = client.create_project(\n",
    "    name=\"SummEval\",\n",
    "    view=\"text-classification\",\n",
    "    metrics=[\n",
    "        ZenoMetric(name=\"mean_diff_coherence\", type=\"mean\", columns=[\"coh_diff\"]),\n",
    "        ZenoMetric(name=\"mean_diff_fluency\", type=\"mean\", columns=[\"flu_diff\"]),\n",
    "        ZenoMetric(name=\"mean_diff_consistency\", type=\"mean\", columns=[\"con_diff\"]),\n",
    "        ZenoMetric(name=\"mean_diff_relevance\", type=\"mean\", columns=[\"rel_diff\"]),\n",
    "        ZenoMetric(name=\"mean_diff_all\", type=\"mean\", columns=[\"mean_diff\"]),\n",
    "    ]\n",
    ")\n",
    "\n",
    "project.upload_dataset(df_init, id_column=\"id\", data_column='data', label_column=\"scores\")"
   ]
  },
  {
   "cell_type": "code",
   "execution_count": 27,
   "metadata": {},
   "outputs": [],
   "source": [
    "df_coherence = df[['all_responses']]"
   ]
  },
  {
   "cell_type": "code",
   "execution_count": 58,
   "metadata": {},
   "outputs": [],
   "source": [
    "df_coherence.loc[:, \"id\"] = df_coherence.index.astype(str)"
   ]
  },
  {
   "cell_type": "code",
   "execution_count": 57,
   "metadata": {},
   "outputs": [],
   "source": [
    "df_coherence.loc[:, 'prob_score'] = df['all_responses'].apply(\n",
    "        lambda x: np.mean([int(i[-1]) for i in x if i and i[-1].isdigit()]))"
   ]
  },
  {
   "cell_type": "code",
   "execution_count": 60,
   "metadata": {},
   "outputs": [],
   "source": [
    "# df_coherence.loc[:, 'coherence'] = df_coherence.apply(\n",
    "#     lambda row: int(row['prob_score'] == df_init.loc[row.name, 'scores']['coherence']),\n",
    "#     axis=1\n",
    "# )"
   ]
  },
  {
   "cell_type": "code",
   "execution_count": 79,
   "metadata": {},
   "outputs": [
    {
     "name": "stderr",
     "output_type": "stream",
     "text": [
      "/var/folders/jm/2zytm77j0ms47q8tymwmv8800000gn/T/ipykernel_32290/3443648651.py:1: FutureWarning: Setting an item of incompatible dtype is deprecated and will raise in a future error of pandas. Value '[-0.13333333  0.66666667  1.11666667 ... -0.05        0.66666667\n",
      "  0.03333333]' has dtype incompatible with int64, please explicitly cast to a compatible dtype first.\n",
      "  df_coherence.loc[:, 'coh_diff'] = df_coherence.apply(\n"
     ]
    }
   ],
   "source": [
    "df_coherence.loc[:, 'coh_diff'] = df_coherence.apply(\n",
    "    lambda row: float(row['prob_score'] - df_init.loc[row.name, 'scores']['coherence']),\n",
    "    axis=1\n",
    ")"
   ]
  },
  {
   "cell_type": "code",
   "execution_count": 83,
   "metadata": {},
   "outputs": [
    {
     "name": "stderr",
     "output_type": "stream",
     "text": [
      "/var/folders/jm/2zytm77j0ms47q8tymwmv8800000gn/T/ipykernel_32290/2288720778.py:1: SettingWithCopyWarning: \n",
      "A value is trying to be set on a copy of a slice from a DataFrame\n",
      "\n",
      "See the caveats in the documentation: https://pandas.pydata.org/pandas-docs/stable/user_guide/indexing.html#returning-a-view-versus-a-copy\n",
      "  df_coherence.drop('coherence', axis=1, inplace=True)\n"
     ]
    }
   ],
   "source": [
    "df_coherence.drop('coherence', axis=1, inplace=True)"
   ]
  },
  {
   "cell_type": "code",
   "execution_count": 84,
   "metadata": {},
   "outputs": [
    {
     "data": {
      "application/vnd.jupyter.widget-view+json": {
       "model_id": "e7577a02397744bbb9285a97ab7dee31",
       "version_major": 2,
       "version_minor": 0
      },
      "text/plain": [
       "  0%|          | 0/1 [00:00<?, ?it/s]"
      ]
     },
     "metadata": {},
     "output_type": "display_data"
    },
    {
     "name": "stdout",
     "output_type": "stream",
     "text": [
      "Successfully uploaded system\n"
     ]
    }
   ],
   "source": [
    "project.upload_system(df_coherence, name=\"GPT4-coherence\", id_column=\"id\", output_column=\"prob_score\")"
   ]
  },
  {
   "cell_type": "code",
   "execution_count": 102,
   "metadata": {},
   "outputs": [
    {
     "name": "stdout",
     "output_type": "stream",
     "text": [
      "Successfully deleted system\n"
     ]
    }
   ],
   "source": [
    "project.delete_system(\"GPT4-coherence\")"
   ]
  },
  {
   "cell_type": "markdown",
   "metadata": {},
   "source": [
    "No comment"
   ]
  },
  {
   "cell_type": "code",
   "execution_count": 128,
   "metadata": {},
   "outputs": [],
   "source": [
    "df_gpt4.loc[:, 'coherence'] = df_coherence['prob_score']"
   ]
  },
  {
   "cell_type": "markdown",
   "metadata": {},
   "source": [
    "### RELEVANCE"
   ]
  },
  {
   "cell_type": "code",
   "execution_count": 85,
   "metadata": {},
   "outputs": [
    {
     "data": {
      "text/html": [
       "<div>\n",
       "<style scoped>\n",
       "    .dataframe tbody tr th:only-of-type {\n",
       "        vertical-align: middle;\n",
       "    }\n",
       "\n",
       "    .dataframe tbody tr th {\n",
       "        vertical-align: top;\n",
       "    }\n",
       "\n",
       "    .dataframe thead th {\n",
       "        text-align: right;\n",
       "    }\n",
       "</style>\n",
       "<table border=\"1\" class=\"dataframe\">\n",
       "  <thead>\n",
       "    <tr style=\"text-align: right;\">\n",
       "      <th></th>\n",
       "      <th>doc_id</th>\n",
       "      <th>system_id</th>\n",
       "      <th>source</th>\n",
       "      <th>reference</th>\n",
       "      <th>system_output</th>\n",
       "      <th>scores</th>\n",
       "      <th>prompt</th>\n",
       "      <th>all_responses</th>\n",
       "    </tr>\n",
       "  </thead>\n",
       "  <tbody>\n",
       "    <tr>\n",
       "      <th>0</th>\n",
       "      <td>dm-test-8764fb95bfad8ee849274873a92fb8d6b400eee2</td>\n",
       "      <td>M11</td>\n",
       "      <td>Paul Merson has restarted his row with Andros ...</td>\n",
       "      <td>Andros Townsend an 83rd minute sub in Tottenha...</td>\n",
       "      <td>Paul merson was brought on with only seven min...</td>\n",
       "      <td>{'coherence': 1.3333333333333333, 'consistency...</td>\n",
       "      <td>You will be given one summary written for a ne...</td>\n",
       "      <td>[Relevance: 1, Relevance: 2, Relevance: 1, Rel...</td>\n",
       "    </tr>\n",
       "    <tr>\n",
       "      <th>1</th>\n",
       "      <td>dm-test-8764fb95bfad8ee849274873a92fb8d6b400eee2</td>\n",
       "      <td>M13</td>\n",
       "      <td>Paul Merson has restarted his row with Andros ...</td>\n",
       "      <td>Andros Townsend an 83rd minute sub in Tottenha...</td>\n",
       "      <td>Paul merson has restarted his row with andros ...</td>\n",
       "      <td>{'coherence': 2.3333333333333335, 'consistency...</td>\n",
       "      <td>You will be given one summary written for a ne...</td>\n",
       "      <td>[Relevance: 4, Relevance: 4, Relevance: 5, Rel...</td>\n",
       "    </tr>\n",
       "    <tr>\n",
       "      <th>2</th>\n",
       "      <td>dm-test-8764fb95bfad8ee849274873a92fb8d6b400eee2</td>\n",
       "      <td>M1</td>\n",
       "      <td>Paul Merson has restarted his row with Andros ...</td>\n",
       "      <td>Andros Townsend an 83rd minute sub in Tottenha...</td>\n",
       "      <td>Paul merson has restarted his row with andros ...</td>\n",
       "      <td>{'coherence': 2.3333333333333335, 'consistency...</td>\n",
       "      <td>You will be given one summary written for a ne...</td>\n",
       "      <td>[Relevance: 4, Relevance: 4, Relevance: 4, Rel...</td>\n",
       "    </tr>\n",
       "    <tr>\n",
       "      <th>3</th>\n",
       "      <td>dm-test-8764fb95bfad8ee849274873a92fb8d6b400eee2</td>\n",
       "      <td>M14</td>\n",
       "      <td>Paul Merson has restarted his row with Andros ...</td>\n",
       "      <td>Andros Townsend an 83rd minute sub in Tottenha...</td>\n",
       "      <td>Paul merson has restarted his row with andros ...</td>\n",
       "      <td>{'coherence': 1.6666666666666667, 'consistency...</td>\n",
       "      <td>You will be given one summary written for a ne...</td>\n",
       "      <td>[Relevance: 3, Relevance: 4, Relevance: 4, Rel...</td>\n",
       "    </tr>\n",
       "    <tr>\n",
       "      <th>4</th>\n",
       "      <td>dm-test-8764fb95bfad8ee849274873a92fb8d6b400eee2</td>\n",
       "      <td>M15</td>\n",
       "      <td>Paul Merson has restarted his row with Andros ...</td>\n",
       "      <td>Andros Townsend an 83rd minute sub in Tottenha...</td>\n",
       "      <td>Paul merson has restarted his row with andros ...</td>\n",
       "      <td>{'coherence': 3.3333333333333335, 'consistency...</td>\n",
       "      <td>You will be given one summary written for a ne...</td>\n",
       "      <td>[Relevance: 5, Relevance: 4, Relevance: 5, Rel...</td>\n",
       "    </tr>\n",
       "  </tbody>\n",
       "</table>\n",
       "</div>"
      ],
      "text/plain": [
       "                                             doc_id system_id  \\\n",
       "0  dm-test-8764fb95bfad8ee849274873a92fb8d6b400eee2       M11   \n",
       "1  dm-test-8764fb95bfad8ee849274873a92fb8d6b400eee2       M13   \n",
       "2  dm-test-8764fb95bfad8ee849274873a92fb8d6b400eee2        M1   \n",
       "3  dm-test-8764fb95bfad8ee849274873a92fb8d6b400eee2       M14   \n",
       "4  dm-test-8764fb95bfad8ee849274873a92fb8d6b400eee2       M15   \n",
       "\n",
       "                                              source  \\\n",
       "0  Paul Merson has restarted his row with Andros ...   \n",
       "1  Paul Merson has restarted his row with Andros ...   \n",
       "2  Paul Merson has restarted his row with Andros ...   \n",
       "3  Paul Merson has restarted his row with Andros ...   \n",
       "4  Paul Merson has restarted his row with Andros ...   \n",
       "\n",
       "                                           reference  \\\n",
       "0  Andros Townsend an 83rd minute sub in Tottenha...   \n",
       "1  Andros Townsend an 83rd minute sub in Tottenha...   \n",
       "2  Andros Townsend an 83rd minute sub in Tottenha...   \n",
       "3  Andros Townsend an 83rd minute sub in Tottenha...   \n",
       "4  Andros Townsend an 83rd minute sub in Tottenha...   \n",
       "\n",
       "                                       system_output  \\\n",
       "0  Paul merson was brought on with only seven min...   \n",
       "1  Paul merson has restarted his row with andros ...   \n",
       "2  Paul merson has restarted his row with andros ...   \n",
       "3  Paul merson has restarted his row with andros ...   \n",
       "4  Paul merson has restarted his row with andros ...   \n",
       "\n",
       "                                              scores  \\\n",
       "0  {'coherence': 1.3333333333333333, 'consistency...   \n",
       "1  {'coherence': 2.3333333333333335, 'consistency...   \n",
       "2  {'coherence': 2.3333333333333335, 'consistency...   \n",
       "3  {'coherence': 1.6666666666666667, 'consistency...   \n",
       "4  {'coherence': 3.3333333333333335, 'consistency...   \n",
       "\n",
       "                                              prompt  \\\n",
       "0  You will be given one summary written for a ne...   \n",
       "1  You will be given one summary written for a ne...   \n",
       "2  You will be given one summary written for a ne...   \n",
       "3  You will be given one summary written for a ne...   \n",
       "4  You will be given one summary written for a ne...   \n",
       "\n",
       "                                       all_responses  \n",
       "0  [Relevance: 1, Relevance: 2, Relevance: 1, Rel...  \n",
       "1  [Relevance: 4, Relevance: 4, Relevance: 5, Rel...  \n",
       "2  [Relevance: 4, Relevance: 4, Relevance: 4, Rel...  \n",
       "3  [Relevance: 3, Relevance: 4, Relevance: 4, Rel...  \n",
       "4  [Relevance: 5, Relevance: 4, Relevance: 5, Rel...  "
      ]
     },
     "execution_count": 85,
     "metadata": {},
     "output_type": "execute_result"
    }
   ],
   "source": [
    "file_path = 'results/for_analysis/gpt/gpt4_rel.json'\n",
    "with open(file_path, 'r') as file:\n",
    "            relevance_data = json.load(file)\n",
    "            relevance_df = pd.DataFrame(relevance_data)\n",
    "relevance_df.head()"
   ]
  },
  {
   "cell_type": "code",
   "execution_count": 163,
   "metadata": {},
   "outputs": [
    {
     "data": {
      "text/plain": [
       "True"
      ]
     },
     "execution_count": 163,
     "metadata": {},
     "output_type": "execute_result"
    }
   ],
   "source": [
    "identical_doc = (relevance_df['doc_id'] == df['doc_id']).all()\n",
    "identical_doc"
   ]
  },
  {
   "cell_type": "code",
   "execution_count": 91,
   "metadata": {},
   "outputs": [],
   "source": [
    "df_gpt4 = df_coherence.copy()"
   ]
  },
  {
   "cell_type": "code",
   "execution_count": 140,
   "metadata": {},
   "outputs": [],
   "source": [
    "relevance_df.loc[:, 'prob_score'] = relevance_df['all_responses'].apply(\n",
    "        lambda x: np.mean([int(i[-1]) for i in x if i and i[-1].isdigit()]))"
   ]
  },
  {
   "cell_type": "code",
   "execution_count": 141,
   "metadata": {},
   "outputs": [],
   "source": [
    "df_gpt4.loc[:, 'relevance'] = relevance_df['prob_score']"
   ]
  },
  {
   "cell_type": "code",
   "execution_count": 96,
   "metadata": {},
   "outputs": [],
   "source": [
    "df_gpt4['output'] = 'Coherence: ' + df_gpt4['prob_score'].astype(str) + '\\nRelevance: ' + df_gpt4['relevance'].astype(str)"
   ]
  },
  {
   "cell_type": "code",
   "execution_count": 144,
   "metadata": {},
   "outputs": [],
   "source": [
    "# df_gpt4.loc[:, 'coherence'] = df_gpt4['prob_score']\n",
    "# df_gpt4.drop(columns=['prob_score'],axis=1, inplace=True)\n",
    "df_gpt4.loc[:, 'rel_diff'] = relevance_df.apply(\n",
    "    lambda row: float(row['prob_score'] - df_init.loc[row.name, 'scores']['relevance']),\n",
    "    axis=1\n",
    ")"
   ]
  },
  {
   "cell_type": "code",
   "execution_count": 100,
   "metadata": {},
   "outputs": [],
   "source": [
    "df_gpt4.drop(columns=['all_responses'],axis=1, inplace=True)"
   ]
  },
  {
   "cell_type": "code",
   "execution_count": 109,
   "metadata": {},
   "outputs": [
    {
     "data": {
      "application/vnd.jupyter.widget-view+json": {
       "model_id": "bd02fc51ad704ec1af253ea3ebd5d840",
       "version_major": 2,
       "version_minor": 0
      },
      "text/plain": [
       "  0%|          | 0/1 [00:00<?, ?it/s]"
      ]
     },
     "metadata": {},
     "output_type": "display_data"
    },
    {
     "name": "stdout",
     "output_type": "stream",
     "text": [
      "Successfully uploaded system\n"
     ]
    }
   ],
   "source": [
    "project.upload_system(df_gpt4, name=\"GPT4\", id_column=\"id\", output_column=\"output\")"
   ]
  },
  {
   "cell_type": "code",
   "execution_count": 105,
   "metadata": {},
   "outputs": [
    {
     "data": {
      "text/html": [
       "<div>\n",
       "<style scoped>\n",
       "    .dataframe tbody tr th:only-of-type {\n",
       "        vertical-align: middle;\n",
       "    }\n",
       "\n",
       "    .dataframe tbody tr th {\n",
       "        vertical-align: top;\n",
       "    }\n",
       "\n",
       "    .dataframe thead th {\n",
       "        text-align: right;\n",
       "    }\n",
       "</style>\n",
       "<table border=\"1\" class=\"dataframe\">\n",
       "  <thead>\n",
       "    <tr style=\"text-align: right;\">\n",
       "      <th></th>\n",
       "      <th>id</th>\n",
       "      <th>coh_diff</th>\n",
       "      <th>relevance</th>\n",
       "      <th>output</th>\n",
       "      <th>coherence</th>\n",
       "      <th>rel_diff</th>\n",
       "    </tr>\n",
       "  </thead>\n",
       "  <tbody>\n",
       "    <tr>\n",
       "      <th>0</th>\n",
       "      <td>0</td>\n",
       "      <td>-0.133333</td>\n",
       "      <td>1.20</td>\n",
       "      <td>Coherence: 1.2\\nRelevance: 1.2</td>\n",
       "      <td>1.20</td>\n",
       "      <td>-0.466667</td>\n",
       "    </tr>\n",
       "    <tr>\n",
       "      <th>1</th>\n",
       "      <td>1</td>\n",
       "      <td>0.666667</td>\n",
       "      <td>3.00</td>\n",
       "      <td>Coherence: 3.0\\nRelevance: 3.0</td>\n",
       "      <td>3.00</td>\n",
       "      <td>0.333333</td>\n",
       "    </tr>\n",
       "    <tr>\n",
       "      <th>2</th>\n",
       "      <td>2</td>\n",
       "      <td>1.116667</td>\n",
       "      <td>3.45</td>\n",
       "      <td>Coherence: 3.45\\nRelevance: 3.45</td>\n",
       "      <td>3.45</td>\n",
       "      <td>0.783333</td>\n",
       "    </tr>\n",
       "    <tr>\n",
       "      <th>3</th>\n",
       "      <td>3</td>\n",
       "      <td>0.933333</td>\n",
       "      <td>2.60</td>\n",
       "      <td>Coherence: 2.6\\nRelevance: 2.6</td>\n",
       "      <td>2.60</td>\n",
       "      <td>-0.066667</td>\n",
       "    </tr>\n",
       "    <tr>\n",
       "      <th>4</th>\n",
       "      <td>4</td>\n",
       "      <td>0.266667</td>\n",
       "      <td>3.60</td>\n",
       "      <td>Coherence: 3.6\\nRelevance: 3.6</td>\n",
       "      <td>3.60</td>\n",
       "      <td>-0.400000</td>\n",
       "    </tr>\n",
       "  </tbody>\n",
       "</table>\n",
       "</div>"
      ],
      "text/plain": [
       "  id  coh_diff  relevance                            output  coherence  \\\n",
       "0  0 -0.133333       1.20    Coherence: 1.2\\nRelevance: 1.2       1.20   \n",
       "1  1  0.666667       3.00    Coherence: 3.0\\nRelevance: 3.0       3.00   \n",
       "2  2  1.116667       3.45  Coherence: 3.45\\nRelevance: 3.45       3.45   \n",
       "3  3  0.933333       2.60    Coherence: 2.6\\nRelevance: 2.6       2.60   \n",
       "4  4  0.266667       3.60    Coherence: 3.6\\nRelevance: 3.6       3.60   \n",
       "\n",
       "   rel_diff  \n",
       "0 -0.466667  \n",
       "1  0.333333  \n",
       "2  0.783333  \n",
       "3 -0.066667  \n",
       "4 -0.400000  "
      ]
     },
     "execution_count": 105,
     "metadata": {},
     "output_type": "execute_result"
    }
   ],
   "source": [
    "df_gpt4.head()"
   ]
  },
  {
   "cell_type": "code",
   "execution_count": 108,
   "metadata": {},
   "outputs": [
    {
     "data": {
      "text/html": [
       "<div>\n",
       "<style scoped>\n",
       "    .dataframe tbody tr th:only-of-type {\n",
       "        vertical-align: middle;\n",
       "    }\n",
       "\n",
       "    .dataframe tbody tr th {\n",
       "        vertical-align: top;\n",
       "    }\n",
       "\n",
       "    .dataframe thead th {\n",
       "        text-align: right;\n",
       "    }\n",
       "</style>\n",
       "<table border=\"1\" class=\"dataframe\">\n",
       "  <thead>\n",
       "    <tr style=\"text-align: right;\">\n",
       "      <th></th>\n",
       "      <th>scores</th>\n",
       "      <th>id</th>\n",
       "      <th>data</th>\n",
       "    </tr>\n",
       "  </thead>\n",
       "  <tbody>\n",
       "    <tr>\n",
       "      <th>0</th>\n",
       "      <td>{'coherence': 1.3333333333333333, 'consistency...</td>\n",
       "      <td>0</td>\n",
       "      <td>Source : \\nPaul Merson has restarted his row w...</td>\n",
       "    </tr>\n",
       "    <tr>\n",
       "      <th>1</th>\n",
       "      <td>{'coherence': 2.3333333333333335, 'consistency...</td>\n",
       "      <td>1</td>\n",
       "      <td>Source : \\nPaul Merson has restarted his row w...</td>\n",
       "    </tr>\n",
       "    <tr>\n",
       "      <th>2</th>\n",
       "      <td>{'coherence': 2.3333333333333335, 'consistency...</td>\n",
       "      <td>2</td>\n",
       "      <td>Source : \\nPaul Merson has restarted his row w...</td>\n",
       "    </tr>\n",
       "    <tr>\n",
       "      <th>3</th>\n",
       "      <td>{'coherence': 1.6666666666666667, 'consistency...</td>\n",
       "      <td>3</td>\n",
       "      <td>Source : \\nPaul Merson has restarted his row w...</td>\n",
       "    </tr>\n",
       "    <tr>\n",
       "      <th>4</th>\n",
       "      <td>{'coherence': 3.3333333333333335, 'consistency...</td>\n",
       "      <td>4</td>\n",
       "      <td>Source : \\nPaul Merson has restarted his row w...</td>\n",
       "    </tr>\n",
       "  </tbody>\n",
       "</table>\n",
       "</div>"
      ],
      "text/plain": [
       "                                              scores id  \\\n",
       "0  {'coherence': 1.3333333333333333, 'consistency...  0   \n",
       "1  {'coherence': 2.3333333333333335, 'consistency...  1   \n",
       "2  {'coherence': 2.3333333333333335, 'consistency...  2   \n",
       "3  {'coherence': 1.6666666666666667, 'consistency...  3   \n",
       "4  {'coherence': 3.3333333333333335, 'consistency...  4   \n",
       "\n",
       "                                                data  \n",
       "0  Source : \\nPaul Merson has restarted his row w...  \n",
       "1  Source : \\nPaul Merson has restarted his row w...  \n",
       "2  Source : \\nPaul Merson has restarted his row w...  \n",
       "3  Source : \\nPaul Merson has restarted his row w...  \n",
       "4  Source : \\nPaul Merson has restarted his row w...  "
      ]
     },
     "execution_count": 108,
     "metadata": {},
     "output_type": "execute_result"
    }
   ],
   "source": [
    "df_init.head()"
   ]
  },
  {
   "cell_type": "markdown",
   "metadata": {},
   "source": [
    "### CONSISTENCY"
   ]
  },
  {
   "cell_type": "code",
   "execution_count": 134,
   "metadata": {},
   "outputs": [
    {
     "data": {
      "text/html": [
       "<div>\n",
       "<style scoped>\n",
       "    .dataframe tbody tr th:only-of-type {\n",
       "        vertical-align: middle;\n",
       "    }\n",
       "\n",
       "    .dataframe tbody tr th {\n",
       "        vertical-align: top;\n",
       "    }\n",
       "\n",
       "    .dataframe thead th {\n",
       "        text-align: right;\n",
       "    }\n",
       "</style>\n",
       "<table border=\"1\" class=\"dataframe\">\n",
       "  <thead>\n",
       "    <tr style=\"text-align: right;\">\n",
       "      <th></th>\n",
       "      <th>doc_id</th>\n",
       "      <th>system_id</th>\n",
       "      <th>source</th>\n",
       "      <th>reference</th>\n",
       "      <th>system_output</th>\n",
       "      <th>scores</th>\n",
       "      <th>prompt</th>\n",
       "      <th>all_responses</th>\n",
       "    </tr>\n",
       "  </thead>\n",
       "  <tbody>\n",
       "    <tr>\n",
       "      <th>0</th>\n",
       "      <td>dm-test-8764fb95bfad8ee849274873a92fb8d6b400eee2</td>\n",
       "      <td>M11</td>\n",
       "      <td>Paul Merson has restarted his row with Andros ...</td>\n",
       "      <td>Andros Townsend an 83rd minute sub in Tottenha...</td>\n",
       "      <td>Paul merson was brought on with only seven min...</td>\n",
       "      <td>{'coherence': 1.3333333333333333, 'consistency...</td>\n",
       "      <td>You will be given a news article. You will the...</td>\n",
       "      <td>[Consistency: 1, Consistency: 1, Consistency: ...</td>\n",
       "    </tr>\n",
       "    <tr>\n",
       "      <th>1</th>\n",
       "      <td>dm-test-8764fb95bfad8ee849274873a92fb8d6b400eee2</td>\n",
       "      <td>M13</td>\n",
       "      <td>Paul Merson has restarted his row with Andros ...</td>\n",
       "      <td>Andros Townsend an 83rd minute sub in Tottenha...</td>\n",
       "      <td>Paul merson has restarted his row with andros ...</td>\n",
       "      <td>{'coherence': 2.3333333333333335, 'consistency...</td>\n",
       "      <td>You will be given a news article. You will the...</td>\n",
       "      <td>[Consistency: 5, Consistency: 5, Consistency: ...</td>\n",
       "    </tr>\n",
       "    <tr>\n",
       "      <th>2</th>\n",
       "      <td>dm-test-8764fb95bfad8ee849274873a92fb8d6b400eee2</td>\n",
       "      <td>M1</td>\n",
       "      <td>Paul Merson has restarted his row with Andros ...</td>\n",
       "      <td>Andros Townsend an 83rd minute sub in Tottenha...</td>\n",
       "      <td>Paul merson has restarted his row with andros ...</td>\n",
       "      <td>{'coherence': 2.3333333333333335, 'consistency...</td>\n",
       "      <td>You will be given a news article. You will the...</td>\n",
       "      <td>[Consistency: 5, Consistency: 5, Consistency: ...</td>\n",
       "    </tr>\n",
       "    <tr>\n",
       "      <th>3</th>\n",
       "      <td>dm-test-8764fb95bfad8ee849274873a92fb8d6b400eee2</td>\n",
       "      <td>M14</td>\n",
       "      <td>Paul Merson has restarted his row with Andros ...</td>\n",
       "      <td>Andros Townsend an 83rd minute sub in Tottenha...</td>\n",
       "      <td>Paul merson has restarted his row with andros ...</td>\n",
       "      <td>{'coherence': 1.6666666666666667, 'consistency...</td>\n",
       "      <td>You will be given a news article. You will the...</td>\n",
       "      <td>[Consistency: 5, Consistency: 5, Consistency: ...</td>\n",
       "    </tr>\n",
       "    <tr>\n",
       "      <th>4</th>\n",
       "      <td>dm-test-8764fb95bfad8ee849274873a92fb8d6b400eee2</td>\n",
       "      <td>M15</td>\n",
       "      <td>Paul Merson has restarted his row with Andros ...</td>\n",
       "      <td>Andros Townsend an 83rd minute sub in Tottenha...</td>\n",
       "      <td>Paul merson has restarted his row with andros ...</td>\n",
       "      <td>{'coherence': 3.3333333333333335, 'consistency...</td>\n",
       "      <td>You will be given a news article. You will the...</td>\n",
       "      <td>[Consistency: 5, Consistency: 5, Consistency: ...</td>\n",
       "    </tr>\n",
       "  </tbody>\n",
       "</table>\n",
       "</div>"
      ],
      "text/plain": [
       "                                             doc_id system_id  \\\n",
       "0  dm-test-8764fb95bfad8ee849274873a92fb8d6b400eee2       M11   \n",
       "1  dm-test-8764fb95bfad8ee849274873a92fb8d6b400eee2       M13   \n",
       "2  dm-test-8764fb95bfad8ee849274873a92fb8d6b400eee2        M1   \n",
       "3  dm-test-8764fb95bfad8ee849274873a92fb8d6b400eee2       M14   \n",
       "4  dm-test-8764fb95bfad8ee849274873a92fb8d6b400eee2       M15   \n",
       "\n",
       "                                              source  \\\n",
       "0  Paul Merson has restarted his row with Andros ...   \n",
       "1  Paul Merson has restarted his row with Andros ...   \n",
       "2  Paul Merson has restarted his row with Andros ...   \n",
       "3  Paul Merson has restarted his row with Andros ...   \n",
       "4  Paul Merson has restarted his row with Andros ...   \n",
       "\n",
       "                                           reference  \\\n",
       "0  Andros Townsend an 83rd minute sub in Tottenha...   \n",
       "1  Andros Townsend an 83rd minute sub in Tottenha...   \n",
       "2  Andros Townsend an 83rd minute sub in Tottenha...   \n",
       "3  Andros Townsend an 83rd minute sub in Tottenha...   \n",
       "4  Andros Townsend an 83rd minute sub in Tottenha...   \n",
       "\n",
       "                                       system_output  \\\n",
       "0  Paul merson was brought on with only seven min...   \n",
       "1  Paul merson has restarted his row with andros ...   \n",
       "2  Paul merson has restarted his row with andros ...   \n",
       "3  Paul merson has restarted his row with andros ...   \n",
       "4  Paul merson has restarted his row with andros ...   \n",
       "\n",
       "                                              scores  \\\n",
       "0  {'coherence': 1.3333333333333333, 'consistency...   \n",
       "1  {'coherence': 2.3333333333333335, 'consistency...   \n",
       "2  {'coherence': 2.3333333333333335, 'consistency...   \n",
       "3  {'coherence': 1.6666666666666667, 'consistency...   \n",
       "4  {'coherence': 3.3333333333333335, 'consistency...   \n",
       "\n",
       "                                              prompt  \\\n",
       "0  You will be given a news article. You will the...   \n",
       "1  You will be given a news article. You will the...   \n",
       "2  You will be given a news article. You will the...   \n",
       "3  You will be given a news article. You will the...   \n",
       "4  You will be given a news article. You will the...   \n",
       "\n",
       "                                       all_responses  \n",
       "0  [Consistency: 1, Consistency: 1, Consistency: ...  \n",
       "1  [Consistency: 5, Consistency: 5, Consistency: ...  \n",
       "2  [Consistency: 5, Consistency: 5, Consistency: ...  \n",
       "3  [Consistency: 5, Consistency: 5, Consistency: ...  \n",
       "4  [Consistency: 5, Consistency: 5, Consistency: ...  "
      ]
     },
     "execution_count": 134,
     "metadata": {},
     "output_type": "execute_result"
    }
   ],
   "source": [
    "file_path = 'results/for_analysis/gpt/gpt4_con.json'\n",
    "with open(file_path, 'r') as file:\n",
    "            consistency_data = json.load(file)\n",
    "            consistency_df = pd.DataFrame(consistency_data)\n",
    "consistency_df.head()"
   ]
  },
  {
   "cell_type": "code",
   "execution_count": 159,
   "metadata": {},
   "outputs": [
    {
     "data": {
      "text/plain": [
       "True"
      ]
     },
     "execution_count": 159,
     "metadata": {},
     "output_type": "execute_result"
    }
   ],
   "source": [
    "identical_doc = (relevance_df['doc_id'] == consistency_df['doc_id']).all()\n",
    "identical_doc"
   ]
  },
  {
   "cell_type": "code",
   "execution_count": 138,
   "metadata": {},
   "outputs": [],
   "source": [
    "consistency_df.loc[:, 'prob_score'] = consistency_df['all_responses'].apply(\n",
    "        lambda x: np.mean([int(i[-1]) for i in x if i and i[-1].isdigit()]))"
   ]
  },
  {
   "cell_type": "code",
   "execution_count": 137,
   "metadata": {},
   "outputs": [
    {
     "data": {
      "text/html": [
       "<div>\n",
       "<style scoped>\n",
       "    .dataframe tbody tr th:only-of-type {\n",
       "        vertical-align: middle;\n",
       "    }\n",
       "\n",
       "    .dataframe tbody tr th {\n",
       "        vertical-align: top;\n",
       "    }\n",
       "\n",
       "    .dataframe thead th {\n",
       "        text-align: right;\n",
       "    }\n",
       "</style>\n",
       "<table border=\"1\" class=\"dataframe\">\n",
       "  <thead>\n",
       "    <tr style=\"text-align: right;\">\n",
       "      <th></th>\n",
       "      <th>doc_id</th>\n",
       "      <th>system_id</th>\n",
       "      <th>source</th>\n",
       "      <th>reference</th>\n",
       "      <th>system_output</th>\n",
       "      <th>scores</th>\n",
       "      <th>prompt</th>\n",
       "      <th>all_responses</th>\n",
       "      <th>prob_score</th>\n",
       "    </tr>\n",
       "  </thead>\n",
       "  <tbody>\n",
       "    <tr>\n",
       "      <th>0</th>\n",
       "      <td>dm-test-8764fb95bfad8ee849274873a92fb8d6b400eee2</td>\n",
       "      <td>M11</td>\n",
       "      <td>Paul Merson has restarted his row with Andros ...</td>\n",
       "      <td>Andros Townsend an 83rd minute sub in Tottenha...</td>\n",
       "      <td>Paul merson was brought on with only seven min...</td>\n",
       "      <td>{'coherence': 1.3333333333333333, 'consistency...</td>\n",
       "      <td>You will be given a news article. You will the...</td>\n",
       "      <td>[Consistency: 1, Consistency: 1, Consistency: ...</td>\n",
       "      <td>1.20</td>\n",
       "    </tr>\n",
       "    <tr>\n",
       "      <th>1</th>\n",
       "      <td>dm-test-8764fb95bfad8ee849274873a92fb8d6b400eee2</td>\n",
       "      <td>M13</td>\n",
       "      <td>Paul Merson has restarted his row with Andros ...</td>\n",
       "      <td>Andros Townsend an 83rd minute sub in Tottenha...</td>\n",
       "      <td>Paul merson has restarted his row with andros ...</td>\n",
       "      <td>{'coherence': 2.3333333333333335, 'consistency...</td>\n",
       "      <td>You will be given a news article. You will the...</td>\n",
       "      <td>[Consistency: 5, Consistency: 5, Consistency: ...</td>\n",
       "      <td>3.00</td>\n",
       "    </tr>\n",
       "    <tr>\n",
       "      <th>2</th>\n",
       "      <td>dm-test-8764fb95bfad8ee849274873a92fb8d6b400eee2</td>\n",
       "      <td>M1</td>\n",
       "      <td>Paul Merson has restarted his row with Andros ...</td>\n",
       "      <td>Andros Townsend an 83rd minute sub in Tottenha...</td>\n",
       "      <td>Paul merson has restarted his row with andros ...</td>\n",
       "      <td>{'coherence': 2.3333333333333335, 'consistency...</td>\n",
       "      <td>You will be given a news article. You will the...</td>\n",
       "      <td>[Consistency: 5, Consistency: 5, Consistency: ...</td>\n",
       "      <td>3.45</td>\n",
       "    </tr>\n",
       "    <tr>\n",
       "      <th>3</th>\n",
       "      <td>dm-test-8764fb95bfad8ee849274873a92fb8d6b400eee2</td>\n",
       "      <td>M14</td>\n",
       "      <td>Paul Merson has restarted his row with Andros ...</td>\n",
       "      <td>Andros Townsend an 83rd minute sub in Tottenha...</td>\n",
       "      <td>Paul merson has restarted his row with andros ...</td>\n",
       "      <td>{'coherence': 1.6666666666666667, 'consistency...</td>\n",
       "      <td>You will be given a news article. You will the...</td>\n",
       "      <td>[Consistency: 5, Consistency: 5, Consistency: ...</td>\n",
       "      <td>2.60</td>\n",
       "    </tr>\n",
       "    <tr>\n",
       "      <th>4</th>\n",
       "      <td>dm-test-8764fb95bfad8ee849274873a92fb8d6b400eee2</td>\n",
       "      <td>M15</td>\n",
       "      <td>Paul Merson has restarted his row with Andros ...</td>\n",
       "      <td>Andros Townsend an 83rd minute sub in Tottenha...</td>\n",
       "      <td>Paul merson has restarted his row with andros ...</td>\n",
       "      <td>{'coherence': 3.3333333333333335, 'consistency...</td>\n",
       "      <td>You will be given a news article. You will the...</td>\n",
       "      <td>[Consistency: 5, Consistency: 5, Consistency: ...</td>\n",
       "      <td>3.60</td>\n",
       "    </tr>\n",
       "  </tbody>\n",
       "</table>\n",
       "</div>"
      ],
      "text/plain": [
       "                                             doc_id system_id  \\\n",
       "0  dm-test-8764fb95bfad8ee849274873a92fb8d6b400eee2       M11   \n",
       "1  dm-test-8764fb95bfad8ee849274873a92fb8d6b400eee2       M13   \n",
       "2  dm-test-8764fb95bfad8ee849274873a92fb8d6b400eee2        M1   \n",
       "3  dm-test-8764fb95bfad8ee849274873a92fb8d6b400eee2       M14   \n",
       "4  dm-test-8764fb95bfad8ee849274873a92fb8d6b400eee2       M15   \n",
       "\n",
       "                                              source  \\\n",
       "0  Paul Merson has restarted his row with Andros ...   \n",
       "1  Paul Merson has restarted his row with Andros ...   \n",
       "2  Paul Merson has restarted his row with Andros ...   \n",
       "3  Paul Merson has restarted his row with Andros ...   \n",
       "4  Paul Merson has restarted his row with Andros ...   \n",
       "\n",
       "                                           reference  \\\n",
       "0  Andros Townsend an 83rd minute sub in Tottenha...   \n",
       "1  Andros Townsend an 83rd minute sub in Tottenha...   \n",
       "2  Andros Townsend an 83rd minute sub in Tottenha...   \n",
       "3  Andros Townsend an 83rd minute sub in Tottenha...   \n",
       "4  Andros Townsend an 83rd minute sub in Tottenha...   \n",
       "\n",
       "                                       system_output  \\\n",
       "0  Paul merson was brought on with only seven min...   \n",
       "1  Paul merson has restarted his row with andros ...   \n",
       "2  Paul merson has restarted his row with andros ...   \n",
       "3  Paul merson has restarted his row with andros ...   \n",
       "4  Paul merson has restarted his row with andros ...   \n",
       "\n",
       "                                              scores  \\\n",
       "0  {'coherence': 1.3333333333333333, 'consistency...   \n",
       "1  {'coherence': 2.3333333333333335, 'consistency...   \n",
       "2  {'coherence': 2.3333333333333335, 'consistency...   \n",
       "3  {'coherence': 1.6666666666666667, 'consistency...   \n",
       "4  {'coherence': 3.3333333333333335, 'consistency...   \n",
       "\n",
       "                                              prompt  \\\n",
       "0  You will be given a news article. You will the...   \n",
       "1  You will be given a news article. You will the...   \n",
       "2  You will be given a news article. You will the...   \n",
       "3  You will be given a news article. You will the...   \n",
       "4  You will be given a news article. You will the...   \n",
       "\n",
       "                                       all_responses  prob_score  \n",
       "0  [Consistency: 1, Consistency: 1, Consistency: ...        1.20  \n",
       "1  [Consistency: 5, Consistency: 5, Consistency: ...        3.00  \n",
       "2  [Consistency: 5, Consistency: 5, Consistency: ...        3.45  \n",
       "3  [Consistency: 5, Consistency: 5, Consistency: ...        2.60  \n",
       "4  [Consistency: 5, Consistency: 5, Consistency: ...        3.60  "
      ]
     },
     "execution_count": 137,
     "metadata": {},
     "output_type": "execute_result"
    }
   ],
   "source": [
    "consistency_df.head()"
   ]
  },
  {
   "cell_type": "code",
   "execution_count": 139,
   "metadata": {},
   "outputs": [],
   "source": [
    "df_gpt4.loc[:, 'consistency'] = consistency_df['prob_score']"
   ]
  },
  {
   "cell_type": "code",
   "execution_count": 142,
   "metadata": {},
   "outputs": [],
   "source": [
    "df_gpt4['output'] = 'Coherence: ' + df_gpt4['coherence'].astype(str) + '\\nRelevance: ' + df_gpt4['relevance'].astype(str) + '\\nConsistency: ' + df_gpt4['consistency'].astype(str)"
   ]
  },
  {
   "cell_type": "code",
   "execution_count": 143,
   "metadata": {},
   "outputs": [],
   "source": [
    "df_gpt4.loc[:, 'con_diff'] = consistency_df.apply(\n",
    "    lambda row: float(row['prob_score'] - df_init.loc[row.name, 'scores']['consistency']),\n",
    "    axis=1\n",
    ")"
   ]
  },
  {
   "cell_type": "code",
   "execution_count": 175,
   "metadata": {},
   "outputs": [
    {
     "data": {
      "application/vnd.jupyter.widget-view+json": {
       "model_id": "538187f442a547f493e30f74b2405182",
       "version_major": 2,
       "version_minor": 0
      },
      "text/plain": [
       "  0%|          | 0/1 [00:00<?, ?it/s]"
      ]
     },
     "metadata": {},
     "output_type": "display_data"
    },
    {
     "name": "stdout",
     "output_type": "stream",
     "text": [
      "Successfully uploaded system\n"
     ]
    }
   ],
   "source": [
    "project.upload_system(df_gpt4, name=\"GPT4\", id_column=\"id\", output_column=\"output\")"
   ]
  },
  {
   "cell_type": "code",
   "execution_count": 148,
   "metadata": {},
   "outputs": [],
   "source": [
    "consistency_df.loc[:, 'consistency'] = consistency_df.apply(\n",
    "    lambda row: int(row['prob_score'] == df_init.loc[row.name, 'scores']['consistency']),\n",
    "    axis=1\n",
    ")"
   ]
  },
  {
   "cell_type": "code",
   "execution_count": 149,
   "metadata": {},
   "outputs": [
    {
     "data": {
      "text/plain": [
       "consistency\n",
       "1    1126\n",
       "0     474\n",
       "Name: count, dtype: int64"
      ]
     },
     "execution_count": 149,
     "metadata": {},
     "output_type": "execute_result"
    }
   ],
   "source": [
    "consistency_df['consistency'].value_counts()"
   ]
  },
  {
   "cell_type": "markdown",
   "metadata": {},
   "source": [
    "### FLUENCY"
   ]
  },
  {
   "cell_type": "code",
   "execution_count": 150,
   "metadata": {},
   "outputs": [
    {
     "data": {
      "text/html": [
       "<div>\n",
       "<style scoped>\n",
       "    .dataframe tbody tr th:only-of-type {\n",
       "        vertical-align: middle;\n",
       "    }\n",
       "\n",
       "    .dataframe tbody tr th {\n",
       "        vertical-align: top;\n",
       "    }\n",
       "\n",
       "    .dataframe thead th {\n",
       "        text-align: right;\n",
       "    }\n",
       "</style>\n",
       "<table border=\"1\" class=\"dataframe\">\n",
       "  <thead>\n",
       "    <tr style=\"text-align: right;\">\n",
       "      <th></th>\n",
       "      <th>doc_id</th>\n",
       "      <th>system_id</th>\n",
       "      <th>source</th>\n",
       "      <th>reference</th>\n",
       "      <th>system_output</th>\n",
       "      <th>scores</th>\n",
       "      <th>prompt</th>\n",
       "      <th>all_responses</th>\n",
       "    </tr>\n",
       "  </thead>\n",
       "  <tbody>\n",
       "    <tr>\n",
       "      <th>0</th>\n",
       "      <td>dm-test-8764fb95bfad8ee849274873a92fb8d6b400eee2</td>\n",
       "      <td>M11</td>\n",
       "      <td>Paul Merson has restarted his row with Andros ...</td>\n",
       "      <td>Andros Townsend an 83rd minute sub in Tottenha...</td>\n",
       "      <td>Paul merson was brought on with only seven min...</td>\n",
       "      <td>{'coherence': 1.3333333333333333, 'consistency...</td>\n",
       "      <td>You will be given one summary written for a ne...</td>\n",
       "      <td>[Fluency: 2, Fluency: 2, Fluency: 2, Fluency: ...</td>\n",
       "    </tr>\n",
       "    <tr>\n",
       "      <th>1</th>\n",
       "      <td>dm-test-8764fb95bfad8ee849274873a92fb8d6b400eee2</td>\n",
       "      <td>M13</td>\n",
       "      <td>Paul Merson has restarted his row with Andros ...</td>\n",
       "      <td>Andros Townsend an 83rd minute sub in Tottenha...</td>\n",
       "      <td>Paul merson has restarted his row with andros ...</td>\n",
       "      <td>{'coherence': 2.3333333333333335, 'consistency...</td>\n",
       "      <td>You will be given one summary written for a ne...</td>\n",
       "      <td>[Fluency: 4, Fluency: 4, Fluency: 4, Fluency: ...</td>\n",
       "    </tr>\n",
       "    <tr>\n",
       "      <th>2</th>\n",
       "      <td>dm-test-8764fb95bfad8ee849274873a92fb8d6b400eee2</td>\n",
       "      <td>M1</td>\n",
       "      <td>Paul Merson has restarted his row with Andros ...</td>\n",
       "      <td>Andros Townsend an 83rd minute sub in Tottenha...</td>\n",
       "      <td>Paul merson has restarted his row with andros ...</td>\n",
       "      <td>{'coherence': 2.3333333333333335, 'consistency...</td>\n",
       "      <td>You will be given one summary written for a ne...</td>\n",
       "      <td>[Fluency: 4, Fluency: 4, Fluency: 3, Fluency: ...</td>\n",
       "    </tr>\n",
       "    <tr>\n",
       "      <th>3</th>\n",
       "      <td>dm-test-8764fb95bfad8ee849274873a92fb8d6b400eee2</td>\n",
       "      <td>M14</td>\n",
       "      <td>Paul Merson has restarted his row with Andros ...</td>\n",
       "      <td>Andros Townsend an 83rd minute sub in Tottenha...</td>\n",
       "      <td>Paul merson has restarted his row with andros ...</td>\n",
       "      <td>{'coherence': 1.6666666666666667, 'consistency...</td>\n",
       "      <td>You will be given one summary written for a ne...</td>\n",
       "      <td>[Fluency: 4, Fluency: 4, Fluency: 4, Fluency: ...</td>\n",
       "    </tr>\n",
       "    <tr>\n",
       "      <th>4</th>\n",
       "      <td>dm-test-8764fb95bfad8ee849274873a92fb8d6b400eee2</td>\n",
       "      <td>M15</td>\n",
       "      <td>Paul Merson has restarted his row with Andros ...</td>\n",
       "      <td>Andros Townsend an 83rd minute sub in Tottenha...</td>\n",
       "      <td>Paul merson has restarted his row with andros ...</td>\n",
       "      <td>{'coherence': 3.3333333333333335, 'consistency...</td>\n",
       "      <td>You will be given one summary written for a ne...</td>\n",
       "      <td>[Fluency: 3, Fluency: 3, Fluency: 3, Fluency: ...</td>\n",
       "    </tr>\n",
       "  </tbody>\n",
       "</table>\n",
       "</div>"
      ],
      "text/plain": [
       "                                             doc_id system_id  \\\n",
       "0  dm-test-8764fb95bfad8ee849274873a92fb8d6b400eee2       M11   \n",
       "1  dm-test-8764fb95bfad8ee849274873a92fb8d6b400eee2       M13   \n",
       "2  dm-test-8764fb95bfad8ee849274873a92fb8d6b400eee2        M1   \n",
       "3  dm-test-8764fb95bfad8ee849274873a92fb8d6b400eee2       M14   \n",
       "4  dm-test-8764fb95bfad8ee849274873a92fb8d6b400eee2       M15   \n",
       "\n",
       "                                              source  \\\n",
       "0  Paul Merson has restarted his row with Andros ...   \n",
       "1  Paul Merson has restarted his row with Andros ...   \n",
       "2  Paul Merson has restarted his row with Andros ...   \n",
       "3  Paul Merson has restarted his row with Andros ...   \n",
       "4  Paul Merson has restarted his row with Andros ...   \n",
       "\n",
       "                                           reference  \\\n",
       "0  Andros Townsend an 83rd minute sub in Tottenha...   \n",
       "1  Andros Townsend an 83rd minute sub in Tottenha...   \n",
       "2  Andros Townsend an 83rd minute sub in Tottenha...   \n",
       "3  Andros Townsend an 83rd minute sub in Tottenha...   \n",
       "4  Andros Townsend an 83rd minute sub in Tottenha...   \n",
       "\n",
       "                                       system_output  \\\n",
       "0  Paul merson was brought on with only seven min...   \n",
       "1  Paul merson has restarted his row with andros ...   \n",
       "2  Paul merson has restarted his row with andros ...   \n",
       "3  Paul merson has restarted his row with andros ...   \n",
       "4  Paul merson has restarted his row with andros ...   \n",
       "\n",
       "                                              scores  \\\n",
       "0  {'coherence': 1.3333333333333333, 'consistency...   \n",
       "1  {'coherence': 2.3333333333333335, 'consistency...   \n",
       "2  {'coherence': 2.3333333333333335, 'consistency...   \n",
       "3  {'coherence': 1.6666666666666667, 'consistency...   \n",
       "4  {'coherence': 3.3333333333333335, 'consistency...   \n",
       "\n",
       "                                              prompt  \\\n",
       "0  You will be given one summary written for a ne...   \n",
       "1  You will be given one summary written for a ne...   \n",
       "2  You will be given one summary written for a ne...   \n",
       "3  You will be given one summary written for a ne...   \n",
       "4  You will be given one summary written for a ne...   \n",
       "\n",
       "                                       all_responses  \n",
       "0  [Fluency: 2, Fluency: 2, Fluency: 2, Fluency: ...  \n",
       "1  [Fluency: 4, Fluency: 4, Fluency: 4, Fluency: ...  \n",
       "2  [Fluency: 4, Fluency: 4, Fluency: 3, Fluency: ...  \n",
       "3  [Fluency: 4, Fluency: 4, Fluency: 4, Fluency: ...  \n",
       "4  [Fluency: 3, Fluency: 3, Fluency: 3, Fluency: ...  "
      ]
     },
     "execution_count": 150,
     "metadata": {},
     "output_type": "execute_result"
    }
   ],
   "source": [
    "file_path = 'results/for_analysis/gpt/gpt4_flu.json'\n",
    "with open(file_path, 'r') as file:\n",
    "            fluency_data = json.load(file)\n",
    "            fluency_df = pd.DataFrame(fluency_data)\n",
    "fluency_df.head()"
   ]
  },
  {
   "cell_type": "code",
   "execution_count": 167,
   "metadata": {},
   "outputs": [
    {
     "data": {
      "text/plain": [
       "True"
      ]
     },
     "execution_count": 167,
     "metadata": {},
     "output_type": "execute_result"
    }
   ],
   "source": [
    "identical_doc = (fluency_df['system_id'] == df['system_id']).all()\n",
    "identical_doc"
   ]
  },
  {
   "cell_type": "code",
   "execution_count": 168,
   "metadata": {},
   "outputs": [],
   "source": [
    "fluency_df.loc[:, 'prob_score'] = fluency_df['all_responses'].apply(\n",
    "        lambda x: np.mean([int(i[-1]) for i in x if i and i[-1].isdigit()]))"
   ]
  },
  {
   "cell_type": "code",
   "execution_count": 169,
   "metadata": {},
   "outputs": [],
   "source": [
    "df_gpt4.loc[:, 'fluency'] = fluency_df['prob_score']"
   ]
  },
  {
   "cell_type": "code",
   "execution_count": 170,
   "metadata": {},
   "outputs": [],
   "source": [
    "df_gpt4['output'] = 'Coherence: ' + df_gpt4['coherence'].astype(str) + '\\nRelevance: ' + df_gpt4['relevance'].astype(str) + '\\nConsistency: ' + df_gpt4['consistency'].astype(str) + '\\nFluency: ' + df_gpt4['fluency'].astype(str)"
   ]
  },
  {
   "cell_type": "code",
   "execution_count": 171,
   "metadata": {},
   "outputs": [],
   "source": [
    "df_gpt4.loc[:, 'flu_diff'] = fluency_df.apply(\n",
    "    lambda row: float(row['prob_score'] - df_init.loc[row.name, 'scores']['fluency']),\n",
    "    axis=1\n",
    ")"
   ]
  },
  {
   "cell_type": "code",
   "execution_count": 187,
   "metadata": {},
   "outputs": [
    {
     "data": {
      "application/vnd.jupyter.widget-view+json": {
       "model_id": "909eb277417e44cb9347757864409d7c",
       "version_major": 2,
       "version_minor": 0
      },
      "text/plain": [
       "  0%|          | 0/1 [00:00<?, ?it/s]"
      ]
     },
     "metadata": {},
     "output_type": "display_data"
    },
    {
     "name": "stdout",
     "output_type": "stream",
     "text": [
      "Successfully uploaded system\n"
     ]
    }
   ],
   "source": [
    "project.upload_system(df_gpt4, name=\"GPT4\", id_column=\"id\", output_column=\"output\")"
   ]
  },
  {
   "cell_type": "markdown",
   "metadata": {},
   "source": [
    "Mean diff & upload df"
   ]
  },
  {
   "cell_type": "code",
   "execution_count": 174,
   "metadata": {},
   "outputs": [],
   "source": [
    "df_gpt4.loc[:, 'mean_diff'] = df_gpt4[['coh_diff', 'flu_diff', 'con_diff', 'rel_diff']].mean(axis=1)"
   ]
  },
  {
   "cell_type": "code",
   "execution_count": 183,
   "metadata": {},
   "outputs": [],
   "source": [
    "df_gpt4.loc[:, 'mean'] = df_gpt4[['coherence', 'relevance', 'consistency', 'fluency']].mean(axis=1) "
   ]
  },
  {
   "cell_type": "code",
   "execution_count": 185,
   "metadata": {},
   "outputs": [],
   "source": [
    "df_gpt4['output'] = 'Coherence: ' + df_gpt4['coherence'].astype(str) + '\\nConsistency: ' + df_gpt4['consistency'].astype(str) + '\\nFluency: ' + df_gpt4['fluency'].astype(str) + '\\nRelevance: ' + df_gpt4['relevance'].astype(str) + '\\nOverall:' + df_gpt4['mean'].astype(str)"
   ]
  },
  {
   "cell_type": "code",
   "execution_count": 186,
   "metadata": {},
   "outputs": [],
   "source": [
    "df_gpt4.to_csv('results/for_analysis/gpt/gpt4_zeno.csv', index=False)"
   ]
  },
  {
   "cell_type": "markdown",
   "metadata": {},
   "source": [
    "Output improving"
   ]
  },
  {
   "cell_type": "code",
   "execution_count": 177,
   "metadata": {},
   "outputs": [],
   "source": [
    "df_init.to_csv('results/for_analysis/zeno_init.csv', index=False)"
   ]
  },
  {
   "cell_type": "code",
   "execution_count": 178,
   "metadata": {},
   "outputs": [],
   "source": [
    "def format_label(label_dict):\n",
    "    return \"\\n\".join([f\"{key.capitalize()}: {value}\" for key, value in label_dict.items()])"
   ]
  },
  {
   "cell_type": "code",
   "execution_count": 179,
   "metadata": {},
   "outputs": [
    {
     "name": "stderr",
     "output_type": "stream",
     "text": [
      "/var/folders/jm/2zytm77j0ms47q8tymwmv8800000gn/T/ipykernel_32290/1499980976.py:1: SettingWithCopyWarning: \n",
      "A value is trying to be set on a copy of a slice from a DataFrame.\n",
      "Try using .loc[row_indexer,col_indexer] = value instead\n",
      "\n",
      "See the caveats in the documentation: https://pandas.pydata.org/pandas-docs/stable/user_guide/indexing.html#returning-a-view-versus-a-copy\n",
      "  df_init['scores'] = df_init['scores'].apply(format_label)\n"
     ]
    }
   ],
   "source": [
    "df_init['scores'] = df_init['scores'].apply(format_label)"
   ]
  },
  {
   "cell_type": "code",
   "execution_count": 180,
   "metadata": {},
   "outputs": [
    {
     "data": {
      "text/html": [
       "<div>\n",
       "<style scoped>\n",
       "    .dataframe tbody tr th:only-of-type {\n",
       "        vertical-align: middle;\n",
       "    }\n",
       "\n",
       "    .dataframe tbody tr th {\n",
       "        vertical-align: top;\n",
       "    }\n",
       "\n",
       "    .dataframe thead th {\n",
       "        text-align: right;\n",
       "    }\n",
       "</style>\n",
       "<table border=\"1\" class=\"dataframe\">\n",
       "  <thead>\n",
       "    <tr style=\"text-align: right;\">\n",
       "      <th></th>\n",
       "      <th>scores</th>\n",
       "      <th>id</th>\n",
       "      <th>data</th>\n",
       "    </tr>\n",
       "  </thead>\n",
       "  <tbody>\n",
       "    <tr>\n",
       "      <th>0</th>\n",
       "      <td>Coherence: 1.3333333333333333\\nConsistency: 1....</td>\n",
       "      <td>0</td>\n",
       "      <td>Source : \\nPaul Merson has restarted his row w...</td>\n",
       "    </tr>\n",
       "    <tr>\n",
       "      <th>1</th>\n",
       "      <td>Coherence: 2.3333333333333335\\nConsistency: 5....</td>\n",
       "      <td>1</td>\n",
       "      <td>Source : \\nPaul Merson has restarted his row w...</td>\n",
       "    </tr>\n",
       "    <tr>\n",
       "      <th>2</th>\n",
       "      <td>Coherence: 2.3333333333333335\\nConsistency: 5....</td>\n",
       "      <td>2</td>\n",
       "      <td>Source : \\nPaul Merson has restarted his row w...</td>\n",
       "    </tr>\n",
       "    <tr>\n",
       "      <th>3</th>\n",
       "      <td>Coherence: 1.6666666666666667\\nConsistency: 5....</td>\n",
       "      <td>3</td>\n",
       "      <td>Source : \\nPaul Merson has restarted his row w...</td>\n",
       "    </tr>\n",
       "    <tr>\n",
       "      <th>4</th>\n",
       "      <td>Coherence: 3.3333333333333335\\nConsistency: 5....</td>\n",
       "      <td>4</td>\n",
       "      <td>Source : \\nPaul Merson has restarted his row w...</td>\n",
       "    </tr>\n",
       "  </tbody>\n",
       "</table>\n",
       "</div>"
      ],
      "text/plain": [
       "                                              scores id  \\\n",
       "0  Coherence: 1.3333333333333333\\nConsistency: 1....  0   \n",
       "1  Coherence: 2.3333333333333335\\nConsistency: 5....  1   \n",
       "2  Coherence: 2.3333333333333335\\nConsistency: 5....  2   \n",
       "3  Coherence: 1.6666666666666667\\nConsistency: 5....  3   \n",
       "4  Coherence: 3.3333333333333335\\nConsistency: 5....  4   \n",
       "\n",
       "                                                data  \n",
       "0  Source : \\nPaul Merson has restarted his row w...  \n",
       "1  Source : \\nPaul Merson has restarted his row w...  \n",
       "2  Source : \\nPaul Merson has restarted his row w...  \n",
       "3  Source : \\nPaul Merson has restarted his row w...  \n",
       "4  Source : \\nPaul Merson has restarted his row w...  "
      ]
     },
     "execution_count": 180,
     "metadata": {},
     "output_type": "execute_result"
    }
   ],
   "source": [
    "df_init.head()"
   ]
  },
  {
   "cell_type": "code",
   "execution_count": 181,
   "metadata": {},
   "outputs": [
    {
     "name": "stdout",
     "output_type": "stream",
     "text": [
      "Successfully updated project.\n",
      "Access your project at  https://hub.zenoml.com/project/6dda2a1e-e3e1-4b0a-8b31-0e2b3b19b1cf/SummEval\n"
     ]
    },
    {
     "data": {
      "application/vnd.jupyter.widget-view+json": {
       "model_id": "8ffccc6115254931a86bdb022f67cf51",
       "version_major": 2,
       "version_minor": 0
      },
      "text/plain": [
       "  0%|          | 0/5 [00:00<?, ?it/s]"
      ]
     },
     "metadata": {},
     "output_type": "display_data"
    },
    {
     "name": "stdout",
     "output_type": "stream",
     "text": [
      "Successfully uploaded data\n"
     ]
    }
   ],
   "source": [
    "project = client.create_project(\n",
    "    name=\"SummEval\",\n",
    "    view=\"text-classification\",\n",
    "    metrics=[\n",
    "        ZenoMetric(name=\"mean_diff_coherence\", type=\"mean\", columns=[\"coh_diff\"]),\n",
    "        ZenoMetric(name=\"mean_diff_fluency\", type=\"mean\", columns=[\"flu_diff\"]),\n",
    "        ZenoMetric(name=\"mean_diff_consistency\", type=\"mean\", columns=[\"con_diff\"]),\n",
    "        ZenoMetric(name=\"mean_diff_relevance\", type=\"mean\", columns=[\"rel_diff\"]),\n",
    "        ZenoMetric(name=\"mean_diff_all\", type=\"mean\", columns=[\"mean_diff\"]),\n",
    "    ]\n",
    ")\n",
    "\n",
    "project.upload_dataset(df_init, id_column=\"id\", data_column='data', label_column=\"scores\")"
   ]
  },
  {
   "cell_type": "code",
   "execution_count": 2,
   "metadata": {},
   "outputs": [
    {
     "ename": "NameError",
     "evalue": "name 'df_gpt4' is not defined",
     "output_type": "error",
     "traceback": [
      "\u001b[0;31m---------------------------------------------------------------------------\u001b[0m",
      "\u001b[0;31mNameError\u001b[0m                                 Traceback (most recent call last)",
      "Cell \u001b[0;32mIn[2], line 1\u001b[0m\n\u001b[0;32m----> 1\u001b[0m \u001b[43mdf_gpt4\u001b[49m\n",
      "\u001b[0;31mNameError\u001b[0m: name 'df_gpt4' is not defined"
     ]
    }
   ],
   "source": [
    "df_gpt4"
   ]
  },
  {
   "cell_type": "code",
   "execution_count": null,
   "metadata": {},
   "outputs": [],
   "source": []
  }
 ],
 "metadata": {
  "kernelspec": {
   "display_name": "LLM_research",
   "language": "python",
   "name": "python3"
  },
  "language_info": {
   "codemirror_mode": {
    "name": "ipython",
    "version": 3
   },
   "file_extension": ".py",
   "mimetype": "text/x-python",
   "name": "python",
   "nbconvert_exporter": "python",
   "pygments_lexer": "ipython3",
   "version": "3.12.3"
  }
 },
 "nbformat": 4,
 "nbformat_minor": 2
}
